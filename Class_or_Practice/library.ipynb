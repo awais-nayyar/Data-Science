{
 "cells": [
  {
   "cell_type": "code",
   "execution_count": 4,
   "id": "c27f2443",
   "metadata": {},
   "outputs": [
    {
     "name": "stdout",
     "output_type": "stream",
     "text": [
      "(['hello', 'd', '23', 'dfd'], [12, 12, 23, 12, 2123], [12.2, 12.2, 3.3, 23.2, 23.45], [True, False])\n"
     ]
    }
   ],
   "source": [
    "list1 = [12, \"hello\", 12.2, \"d\", 12.2, 12, \"23\", 3.3, 23,12,2123,\"dfd\", 23.2,23.45, True, False]\n",
    "tuple1 = (\"d\",3,3,4, 3.3 , True, True, \"dd\", 8, 3.3,4.3)\n",
    "\n",
    "# this method take a list or tuple, and then return multiple lists having same type of values\n",
    "# e.g: if we give him a list having multiple type of values \n",
    "#it will make the separate collection of same type of values and then return these\n",
    "\n",
    "def apply_filter(lis):\n",
    "    \n",
    "    sList = []\n",
    "    iList = []\n",
    "    fList = []\n",
    "    bList = []\n",
    "    \n",
    "    s = i = f = b = 0  #flags use to identify which type of values exist in the list/tuple\n",
    "    \n",
    "    sList.clear()\n",
    "    iList.clear()\n",
    "    fList.clear()\n",
    "    bList.clear()\n",
    "\n",
    "    for item in lis:\n",
    "        t = type(item)\n",
    "    \n",
    "        #checking type of every element of the list and\n",
    "        #making separate lists of same type of items\n",
    "        if t == type(\"string\"): \n",
    "            sList.append(item)\n",
    "        elif t == type(1):\n",
    "            iList.append(item)\n",
    "        elif t == type(1.0):\n",
    "            fList.append(item)\n",
    "        elif t == type(True):\n",
    "            bList.append(item)\n",
    "    \n",
    "    #now checking the length of each list using flag variables\n",
    "    if len(sList) > 0:\n",
    "        s = 1\n",
    "    if len(iList) > 0:\n",
    "        i = 1\n",
    "    if len(fList) > 0:\n",
    "        f = 1\n",
    "    if len(bList) > 0:\n",
    "        b = 1\n",
    "        \n",
    "    #now checking which lists are not empty\n",
    "    #and then returning these lists\n",
    "    if s == 1 and i == 1 and f == 1 and b == 1:\n",
    "        return sList, iList, fList, bList\n",
    "    elif s == 1 and i == 1 and f == 1:\n",
    "        return sList, iList, fList\n",
    "    elif s == 1 and i == 1 and b == 1:\n",
    "        return sList, iList, bList\n",
    "    elif s == 1 and f == 1 and b == 1:\n",
    "        return sList, fList, bList\n",
    "    elif i == 1 and f == 1 and b == 1:\n",
    "        return iList, fList, bList\n",
    "    elif s == 1 and i == 1:\n",
    "        return sList, iList\n",
    "    elif s == 1 and f == 1:\n",
    "        return sList, fList\n",
    "    elif s == 1 and b == 1:\n",
    "        return sList, bList\n",
    "    elif f == 1 and i == 1:\n",
    "        return fList, iList\n",
    "    elif f == 1 and b == 1:\n",
    "        return fList, bList\n",
    "    elif i == 1 and b == 1:\n",
    "        return iList, bList\n",
    "    elif i == 1:\n",
    "        return iList\n",
    "    elif b == 1:\n",
    "        return bList\n",
    "    elif s == 1:\n",
    "        return sList\n",
    "    elif f == 1:\n",
    "        return fList\n",
    "    \n",
    "print(apply_filter(list1))"
   ]
  },
  {
   "cell_type": "code",
   "execution_count": 1,
   "id": "303f1008",
   "metadata": {},
   "outputs": [
    {
     "name": "stdout",
     "output_type": "stream",
     "text": [
      "awais : 3 times\n",
      "nayyar : 2 times\n",
      "awais : 3 times\n",
      "nayyar : 2 times\n",
      "bhai : 1 time\n",
      "hello : 2 times\n",
      "awais : 3 times\n",
      "hello : 2 times\n"
     ]
    }
   ],
   "source": [
    "s = \"awais nayyar awais nayyar bhai hello awais hello\"\n",
    "\n",
    "def count_all(st):\n",
    "    st = st.split(\" \")\n",
    "    dict1 = dict()\n",
    "    temp = \"\"\n",
    "    for item in st:\n",
    "        a = st.count(item)\n",
    "        dict1.update({item :a})\n",
    "        if temp == item:\n",
    "            print(\"already existed\")\n",
    "        elif a > 1:\n",
    "            temp = item\n",
    "            print(\"{} : {} times\".format(item, a))\n",
    "        else:\n",
    "            print(\"{} : {} time\".format(item, a))\n",
    "\n",
    "count_all(s)"
   ]
  },
  {
   "cell_type": "code",
   "execution_count": 3,
   "id": "5eae2f0d",
   "metadata": {},
   "outputs": [],
   "source": [
    "import my_custom_package_005 as mp"
   ]
  },
  {
   "cell_type": "code",
   "execution_count": 26,
   "id": "1ca11900",
   "metadata": {},
   "outputs": [
    {
     "data": {
      "text/plain": [
       "(['34', 'dfd'], [12, 2])"
      ]
     },
     "execution_count": 26,
     "metadata": {},
     "output_type": "execute_result"
    }
   ],
   "source": []
  },
  {
   "cell_type": "code",
   "execution_count": 21,
   "id": "4bb80c8d",
   "metadata": {},
   "outputs": [
    {
     "name": "stdout",
     "output_type": "stream",
     "text": [
      "aea : 1 time\n",
      "fdfj : 1 time\n"
     ]
    }
   ],
   "source": [
    "df.word_frequency.count_all(\"aea fdfj\")"
   ]
  }
 ],
 "metadata": {
  "kernelspec": {
   "display_name": "Python 3 (ipykernel)",
   "language": "python",
   "name": "python3"
  },
  "language_info": {
   "codemirror_mode": {
    "name": "ipython",
    "version": 3
   },
   "file_extension": ".py",
   "mimetype": "text/x-python",
   "name": "python",
   "nbconvert_exporter": "python",
   "pygments_lexer": "ipython3",
   "version": "3.11.0"
  }
 },
 "nbformat": 4,
 "nbformat_minor": 5
}
