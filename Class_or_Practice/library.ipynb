{
 "cells": [
  {
   "cell_type": "code",
   "execution_count": 25,
   "id": "c27f2443",
   "metadata": {},
   "outputs": [
    {
     "name": "stdout",
     "output_type": "stream",
     "text": [
      "['hello', 'd', '23', 'dfd']\n",
      "[12, 12, 23, 12, 2123]\n",
      "[12.2, 12.2, 3.3, 23.2, 23.45]\n"
     ]
    }
   ],
   "source": [
    "list = [12, \"hello\", 12.2, \"d\", 12.2, 12, \"23\", 3.3, 23,12,2123,\"dfd\", 23.2,23.45]\n",
    "\n",
    "sList = []\n",
    "iList = []\n",
    "fList = []\n",
    "\n",
    "sList.clear()\n",
    "iList.clear()\n",
    "fList.clear()\n",
    "\n",
    "for i in list:\n",
    "    t = type(i)\n",
    "    \n",
    "    if t == type(\"string\"):\n",
    "        sList.append(i)\n",
    "    elif t == type(1):\n",
    "        iList.append(i)\n",
    "    elif t == type(1.0):\n",
    "        fList.append(i)\n",
    "\n",
    "print(sList)\n",
    "print(iList)\n",
    "print(fList)"
   ]
  }
 ],
 "metadata": {
  "kernelspec": {
   "display_name": "Python 3 (ipykernel)",
   "language": "python",
   "name": "python3"
  },
  "language_info": {
   "codemirror_mode": {
    "name": "ipython",
    "version": 3
   },
   "file_extension": ".py",
   "mimetype": "text/x-python",
   "name": "python",
   "nbconvert_exporter": "python",
   "pygments_lexer": "ipython3",
   "version": "3.11.0"
  }
 },
 "nbformat": 4,
 "nbformat_minor": 5
}
