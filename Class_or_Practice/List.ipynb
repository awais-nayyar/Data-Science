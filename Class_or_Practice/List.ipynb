{
 "cells": [
  {
   "cell_type": "code",
   "execution_count": 1,
   "id": "9f078509",
   "metadata": {},
   "outputs": [],
   "source": [
    "l1 = [1, \"apple\", \"banana\", \"apple\", \"apple\", \"hmm\", 3.4, \"123\"]\n",
    "l2 = [2, 4, 5, \"ball\", \"345\", \"bat\", 2]"
   ]
  },
  {
   "cell_type": "code",
   "execution_count": 18,
   "id": "128e1326",
   "metadata": {},
   "outputs": [
    {
     "data": {
      "text/plain": [
       "[1,\n",
       " 'apple',\n",
       " 'banana',\n",
       " 'apple',\n",
       " 'apple',\n",
       " 'hmm',\n",
       " 3.4,\n",
       " '123',\n",
       " 2,\n",
       " 4,\n",
       " 5,\n",
       " 'ball',\n",
       " '345',\n",
       " 'bat',\n",
       " 2,\n",
       " 2,\n",
       " 4,\n",
       " 5,\n",
       " 'ball',\n",
       " '345',\n",
       " 'bat',\n",
       " 2,\n",
       " 2,\n",
       " 4,\n",
       " 5,\n",
       " 'ball',\n",
       " '345',\n",
       " 'bat',\n",
       " 2]"
      ]
     },
     "execution_count": 18,
     "metadata": {},
     "output_type": "execute_result"
    }
   ],
   "source": [
    "l1 + l2\n",
    "l1"
   ]
  },
  {
   "cell_type": "code",
   "execution_count": 7,
   "id": "58ab0472",
   "metadata": {},
   "outputs": [],
   "source": [
    "l1.extend(l2)\n"
   ]
  },
  {
   "cell_type": "code",
   "execution_count": 8,
   "id": "06eb0bb8",
   "metadata": {},
   "outputs": [
    {
     "name": "stdout",
     "output_type": "stream",
     "text": [
      "[1, 'apple', 'banana', 'apple', 'apple', 'hmm', 3.4, '123', 2, 4, 5, 'ball', '345', 'bat', 2, 2, 4, 5, 'ball', '345', 'bat', 2, 2, 4, 5, 'ball', '345', 'bat', 2]\n"
     ]
    }
   ],
   "source": [
    "print(l1)"
   ]
  },
  {
   "cell_type": "code",
   "execution_count": 9,
   "id": "a1b39358",
   "metadata": {},
   "outputs": [
    {
     "name": "stdout",
     "output_type": "stream",
     "text": [
      "[1, 'apple', 'banana', 'apple', 'apple', 'hmm', 3.4, '123', 2, 4, 5, 'ball', '345', 'bat', 2, 2, 4, 5, 'ball', '345', 'bat', 2, 2, 4, 5, 'ball', '345', 'bat', 2]\n"
     ]
    }
   ],
   "source": [
    "l3 = l1\n",
    "print(l3)"
   ]
  },
  {
   "cell_type": "code",
   "execution_count": 10,
   "id": "7736832f",
   "metadata": {},
   "outputs": [
    {
     "name": "stdout",
     "output_type": "stream",
     "text": [
      "1\n",
      "apple\n",
      "banana\n",
      "apple\n",
      "apple\n",
      "hmm\n",
      "3.4\n",
      "123\n",
      "2\n",
      "4\n",
      "5\n",
      "ball\n",
      "345\n",
      "bat\n",
      "2\n",
      "2\n",
      "4\n",
      "5\n",
      "ball\n",
      "345\n",
      "bat\n",
      "2\n",
      "2\n",
      "4\n",
      "5\n",
      "ball\n",
      "345\n",
      "bat\n",
      "2\n"
     ]
    }
   ],
   "source": [
    "for l in l3:\n",
    "    print(l)"
   ]
  },
  {
   "cell_type": "code",
   "execution_count": 11,
   "id": "40868579",
   "metadata": {},
   "outputs": [
    {
     "name": "stdout",
     "output_type": "stream",
     "text": [
      "apple\n",
      "apple\n",
      "apple\n"
     ]
    }
   ],
   "source": [
    "for l in l3:\n",
    "    if l ==\"apple\":\n",
    "        print(l)"
   ]
  },
  {
   "cell_type": "code",
   "execution_count": 12,
   "id": "aca10c5a",
   "metadata": {},
   "outputs": [
    {
     "data": {
      "text/plain": [
       "3"
      ]
     },
     "execution_count": 12,
     "metadata": {},
     "output_type": "execute_result"
    }
   ],
   "source": [
    "l3.count(\"apple\")"
   ]
  },
  {
   "cell_type": "code",
   "execution_count": 13,
   "id": "ab19c7ab",
   "metadata": {},
   "outputs": [],
   "source": [
    "l3.reverse()"
   ]
  },
  {
   "cell_type": "code",
   "execution_count": 14,
   "id": "a44ba38c",
   "metadata": {},
   "outputs": [
    {
     "data": {
      "text/plain": [
       "[2,\n",
       " 'bat',\n",
       " '345',\n",
       " 'ball',\n",
       " 5,\n",
       " 4,\n",
       " 2,\n",
       " 2,\n",
       " 'bat',\n",
       " '345',\n",
       " 'ball',\n",
       " 5,\n",
       " 4,\n",
       " 2,\n",
       " 2,\n",
       " 'bat',\n",
       " '345',\n",
       " 'ball',\n",
       " 5,\n",
       " 4,\n",
       " 2,\n",
       " '123',\n",
       " 3.4,\n",
       " 'hmm',\n",
       " 'apple',\n",
       " 'apple',\n",
       " 'banana',\n",
       " 'apple',\n",
       " 1]"
      ]
     },
     "execution_count": 14,
     "metadata": {},
     "output_type": "execute_result"
    }
   ],
   "source": [
    "l3"
   ]
  },
  {
   "cell_type": "code",
   "execution_count": 15,
   "id": "d15c9e94",
   "metadata": {},
   "outputs": [],
   "source": [
    "l3.reverse()"
   ]
  },
  {
   "cell_type": "code",
   "execution_count": 16,
   "id": "b4131ee2",
   "metadata": {},
   "outputs": [
    {
     "data": {
      "text/plain": [
       "[1,\n",
       " 'apple',\n",
       " 'banana',\n",
       " 'apple',\n",
       " 'apple',\n",
       " 'hmm',\n",
       " 3.4,\n",
       " '123',\n",
       " 2,\n",
       " 4,\n",
       " 5,\n",
       " 'ball',\n",
       " '345',\n",
       " 'bat',\n",
       " 2,\n",
       " 2,\n",
       " 4,\n",
       " 5,\n",
       " 'ball',\n",
       " '345',\n",
       " 'bat',\n",
       " 2,\n",
       " 2,\n",
       " 4,\n",
       " 5,\n",
       " 'ball',\n",
       " '345',\n",
       " 'bat',\n",
       " 2]"
      ]
     },
     "execution_count": 16,
     "metadata": {},
     "output_type": "execute_result"
    }
   ],
   "source": [
    "l3"
   ]
  },
  {
   "cell_type": "code",
   "execution_count": 17,
   "id": "1961f0dd",
   "metadata": {},
   "outputs": [
    {
     "data": {
      "text/plain": [
       "29"
      ]
     },
     "execution_count": 17,
     "metadata": {},
     "output_type": "execute_result"
    }
   ],
   "source": [
    "len(l3)"
   ]
  },
  {
   "cell_type": "code",
   "execution_count": 19,
   "id": "8ed8f351",
   "metadata": {},
   "outputs": [],
   "source": [
    "del l3[6:20]"
   ]
  },
  {
   "cell_type": "code",
   "execution_count": 20,
   "id": "70dedad1",
   "metadata": {},
   "outputs": [
    {
     "data": {
      "text/plain": [
       "[1,\n",
       " 'apple',\n",
       " 'banana',\n",
       " 'apple',\n",
       " 'apple',\n",
       " 'hmm',\n",
       " 'bat',\n",
       " 2,\n",
       " 2,\n",
       " 4,\n",
       " 5,\n",
       " 'ball',\n",
       " '345',\n",
       " 'bat',\n",
       " 2]"
      ]
     },
     "execution_count": 20,
     "metadata": {},
     "output_type": "execute_result"
    }
   ],
   "source": [
    "l3"
   ]
  },
  {
   "cell_type": "code",
   "execution_count": 21,
   "id": "c971f2fc",
   "metadata": {},
   "outputs": [],
   "source": [
    "l3.remove(\"apple\")"
   ]
  },
  {
   "cell_type": "code",
   "execution_count": 22,
   "id": "21984400",
   "metadata": {},
   "outputs": [
    {
     "data": {
      "text/plain": [
       "[1,\n",
       " 'banana',\n",
       " 'apple',\n",
       " 'apple',\n",
       " 'hmm',\n",
       " 'bat',\n",
       " 2,\n",
       " 2,\n",
       " 4,\n",
       " 5,\n",
       " 'ball',\n",
       " '345',\n",
       " 'bat',\n",
       " 2]"
      ]
     },
     "execution_count": 22,
     "metadata": {},
     "output_type": "execute_result"
    }
   ],
   "source": [
    "l3"
   ]
  },
  {
   "cell_type": "code",
   "execution_count": 23,
   "id": "8ae16d77",
   "metadata": {},
   "outputs": [
    {
     "data": {
      "text/plain": [
       "True"
      ]
     },
     "execution_count": 23,
     "metadata": {},
     "output_type": "execute_result"
    }
   ],
   "source": [
    "l4 = \"apple\" in l3\n",
    "l4"
   ]
  },
  {
   "cell_type": "code",
   "execution_count": 24,
   "id": "ac379899",
   "metadata": {},
   "outputs": [
    {
     "data": {
      "text/plain": [
       "[1, 4, 9, 16]"
      ]
     },
     "execution_count": 24,
     "metadata": {},
     "output_type": "execute_result"
    }
   ],
   "source": [
    "l5 = [x*x for x in range(1,5)]\n",
    "l5"
   ]
  },
  {
   "cell_type": "code",
   "execution_count": 28,
   "id": "3aee270d",
   "metadata": {},
   "outputs": [
    {
     "name": "stdout",
     "output_type": "stream",
     "text": [
      "Sorted list: [(2, 1), (3, 2), (5, 2), (1, 3)]\n"
     ]
    }
   ],
   "source": [
    "# take second element for sort\n",
    "def takeSecond(elem):\n",
    "    return elem[1]\n",
    "\n",
    "# random list\n",
    "random = [ (3, 2),(5, 2),(2, 1), (1, 3)]\n",
    "\n",
    "# sort list with key\n",
    "random.sort(key = takeSecond)\n",
    "\n",
    "# print list\n",
    "print('Sorted list:', random)"
   ]
  },
  {
   "cell_type": "code",
   "execution_count": 41,
   "id": "05342b11",
   "metadata": {},
   "outputs": [
    {
     "data": {
      "text/plain": [
       "[{'Name': 'Sharon Lin', 'age': 30, 'salary': 8000},\n",
       " {'Name': 'Mikhail Tal', 'age': 40, 'salary': 15000},\n",
       " {'Name': 'John Hopkins', 'age': 18, 'salary': 1000},\n",
       " {'Name': 'Alan Turing', 'age': 25, 'salary': 10000}]"
      ]
     },
     "execution_count": 41,
     "metadata": {},
     "output_type": "execute_result"
    }
   ],
   "source": [
    "# sorting using custom key\n",
    "employees = [\n",
    "    {'Name': 'Alan Turing', 'age': 25, 'salary': 10000},\n",
    "    {'Name': 'Sharon Lin', 'age': 30, 'salary': 8000},\n",
    "    {'Name': 'John Hopkins', 'age': 18, 'salary': 1000},\n",
    "    {'Name': 'Mikhail Tal', 'age': 40, 'salary': 15000},\n",
    "]\n",
    "\n",
    "# employees.sort(key = lambda x: x.get('age'))\n",
    "# print(employees)\n",
    "\n",
    "emp = sorted(employees, key= lambda x: x.get(\"Name\"), reverse = True)\n",
    "emp"
   ]
  },
  {
   "cell_type": "code",
   "execution_count": 43,
   "id": "38e61884",
   "metadata": {},
   "outputs": [
    {
     "data": {
      "text/plain": [
       "[1,\n",
       " 'banana',\n",
       " 'apple',\n",
       " 'awais',\n",
       " 'apple',\n",
       " 'hmm',\n",
       " 'bat',\n",
       " 2,\n",
       " 2,\n",
       " 4,\n",
       " 5,\n",
       " 'ball',\n",
       " '345',\n",
       " 'bat',\n",
       " 2]"
      ]
     },
     "execution_count": 43,
     "metadata": {},
     "output_type": "execute_result"
    }
   ],
   "source": [
    "l3.insert(3, \"awais\") # insert 3rd number par ja kr awais ko likhy ga yeh 1 se count karta hy\n",
    "l3"
   ]
  },
  {
   "cell_type": "code",
   "execution_count": 44,
   "id": "abd33885",
   "metadata": {},
   "outputs": [
    {
     "data": {
      "text/plain": [
       "[1,\n",
       " 'banana',\n",
       " 'apple',\n",
       " 'malik',\n",
       " 'awais',\n",
       " 'apple',\n",
       " 'hmm',\n",
       " 'bat',\n",
       " 2,\n",
       " 2,\n",
       " 4,\n",
       " 5,\n",
       " 'ball',\n",
       " '345',\n",
       " 'bat',\n",
       " 2]"
      ]
     },
     "execution_count": 44,
     "metadata": {},
     "output_type": "execute_result"
    }
   ],
   "source": [
    "l3.insert(3,\"malik\") # insert 3rd number par ja kr malik ko likhy ga yeh 1 se count karta hy\n",
    "l3"
   ]
  },
  {
   "cell_type": "code",
   "execution_count": 45,
   "id": "48beefd6",
   "metadata": {},
   "outputs": [
    {
     "data": {
      "text/plain": [
       "'awais'"
      ]
     },
     "execution_count": 45,
     "metadata": {},
     "output_type": "execute_result"
    }
   ],
   "source": [
    "l3.pop(4)"
   ]
  },
  {
   "cell_type": "code",
   "execution_count": 48,
   "id": "38a1fc7f",
   "metadata": {},
   "outputs": [
    {
     "data": {
      "text/plain": [
       "[1, 'banana', 'apple', 'malik', 'apple', 'hmm', 'bat']"
      ]
     },
     "execution_count": 48,
     "metadata": {},
     "output_type": "execute_result"
    }
   ],
   "source": [
    "del l3[7:11]\n",
    "l3"
   ]
  },
  {
   "cell_type": "code",
   "execution_count": 47,
   "id": "bf4c67c6",
   "metadata": {},
   "outputs": [
    {
     "data": {
      "text/plain": [
       "[1, 'banana', 'apple', 'malik', 'apple', 'hmm', 'bat', 'ball', '345', 'bat', 2]"
      ]
     },
     "execution_count": 47,
     "metadata": {},
     "output_type": "execute_result"
    }
   ],
   "source": []
  },
  {
   "cell_type": "code",
   "execution_count": 49,
   "id": "04b3bf26",
   "metadata": {},
   "outputs": [
    {
     "data": {
      "text/plain": [
       "[1, 'banana', 'apple', 'malik', 'apple', 'hmm', 'bat']"
      ]
     },
     "execution_count": 49,
     "metadata": {},
     "output_type": "execute_result"
    }
   ],
   "source": [
    "l1"
   ]
  },
  {
   "cell_type": "code",
   "execution_count": 50,
   "id": "2f681b0e",
   "metadata": {},
   "outputs": [],
   "source": [
    "l1 = l3"
   ]
  },
  {
   "cell_type": "code",
   "execution_count": 51,
   "id": "e8209c9f",
   "metadata": {},
   "outputs": [
    {
     "data": {
      "text/plain": [
       "[1, 'banana', 'apple', 'malik', 'apple', 'hmm', 'bat']"
      ]
     },
     "execution_count": 51,
     "metadata": {},
     "output_type": "execute_result"
    }
   ],
   "source": [
    "l3"
   ]
  },
  {
   "cell_type": "code",
   "execution_count": 52,
   "id": "ad297591",
   "metadata": {},
   "outputs": [
    {
     "data": {
      "text/plain": [
       "[1, 'banana', 'apple', 'malik', 'apple', 'hmm', 'bat', '1']"
      ]
     },
     "execution_count": 52,
     "metadata": {},
     "output_type": "execute_result"
    }
   ],
   "source": [
    "l3.append(\"1\")\n",
    "l3"
   ]
  },
  {
   "cell_type": "code",
   "execution_count": 53,
   "id": "be88c77d",
   "metadata": {},
   "outputs": [
    {
     "data": {
      "text/plain": [
       "[1, 'banana', 'apple', 'malik', 'apple', 'hmm', 'bat', '1']"
      ]
     },
     "execution_count": 53,
     "metadata": {},
     "output_type": "execute_result"
    }
   ],
   "source": [
    "l1"
   ]
  },
  {
   "cell_type": "code",
   "execution_count": 54,
   "id": "1bbc2cf1",
   "metadata": {},
   "outputs": [],
   "source": [
    "del l3[-3: -1]"
   ]
  },
  {
   "cell_type": "code",
   "execution_count": 55,
   "id": "c3d0794b",
   "metadata": {},
   "outputs": [
    {
     "data": {
      "text/plain": [
       "[1, 'banana', 'apple', 'malik', 'apple', '1']"
      ]
     },
     "execution_count": 55,
     "metadata": {},
     "output_type": "execute_result"
    }
   ],
   "source": [
    "l1"
   ]
  },
  {
   "cell_type": "code",
   "execution_count": 56,
   "id": "2badb4cc",
   "metadata": {},
   "outputs": [
    {
     "data": {
      "text/plain": [
       "[1, 'banana', 'apple', 'malik', 'apple', '1']"
      ]
     },
     "execution_count": 56,
     "metadata": {},
     "output_type": "execute_result"
    }
   ],
   "source": [
    "l3"
   ]
  },
  {
   "cell_type": "code",
   "execution_count": 58,
   "id": "afa68daf",
   "metadata": {},
   "outputs": [],
   "source": [
    "l3 = l1.copy()"
   ]
  },
  {
   "cell_type": "code",
   "execution_count": 59,
   "id": "6e8571d9",
   "metadata": {},
   "outputs": [
    {
     "data": {
      "text/plain": [
       "[1, 'banana', 'apple', 'malik', 'apple', '1']"
      ]
     },
     "execution_count": 59,
     "metadata": {},
     "output_type": "execute_result"
    }
   ],
   "source": [
    "l3"
   ]
  },
  {
   "cell_type": "code",
   "execution_count": 60,
   "id": "2fa12f5b",
   "metadata": {},
   "outputs": [],
   "source": [
    "l3.append(\"23\")"
   ]
  },
  {
   "cell_type": "code",
   "execution_count": 61,
   "id": "b16e66dc",
   "metadata": {},
   "outputs": [
    {
     "data": {
      "text/plain": [
       "[1, 'banana', 'apple', 'malik', 'apple', '1', '23']"
      ]
     },
     "execution_count": 61,
     "metadata": {},
     "output_type": "execute_result"
    }
   ],
   "source": [
    "l3"
   ]
  },
  {
   "cell_type": "code",
   "execution_count": 62,
   "id": "4558301e",
   "metadata": {},
   "outputs": [
    {
     "data": {
      "text/plain": [
       "[1, 'banana', 'apple', 'malik', 'apple', '1']"
      ]
     },
     "execution_count": 62,
     "metadata": {},
     "output_type": "execute_result"
    }
   ],
   "source": [
    "l1"
   ]
  },
  {
   "cell_type": "code",
   "execution_count": 63,
   "id": "a5b5720a",
   "metadata": {},
   "outputs": [],
   "source": [
    "l3 = l1[:]"
   ]
  },
  {
   "cell_type": "code",
   "execution_count": 64,
   "id": "24915030",
   "metadata": {},
   "outputs": [
    {
     "data": {
      "text/plain": [
       "[1, 'banana', 'apple', 'malik', 'apple', '1']"
      ]
     },
     "execution_count": 64,
     "metadata": {},
     "output_type": "execute_result"
    }
   ],
   "source": [
    "l3"
   ]
  },
  {
   "cell_type": "code",
   "execution_count": 65,
   "id": "811bcb3d",
   "metadata": {},
   "outputs": [],
   "source": [
    "l3.append(\"2\")"
   ]
  },
  {
   "cell_type": "code",
   "execution_count": 66,
   "id": "79c8566c",
   "metadata": {},
   "outputs": [
    {
     "data": {
      "text/plain": [
       "[1, 'banana', 'apple', 'malik', 'apple', '1']"
      ]
     },
     "execution_count": 66,
     "metadata": {},
     "output_type": "execute_result"
    }
   ],
   "source": [
    "l1"
   ]
  },
  {
   "cell_type": "code",
   "execution_count": 67,
   "id": "f79c10b6",
   "metadata": {},
   "outputs": [
    {
     "data": {
      "text/plain": [
       "[1, 'banana', 'apple', 'malik', 'apple', '1', '2']"
      ]
     },
     "execution_count": 67,
     "metadata": {},
     "output_type": "execute_result"
    }
   ],
   "source": [
    "l3"
   ]
  },
  {
   "cell_type": "markdown",
   "id": "314004ca",
   "metadata": {},
   "source": [
    "# List comprehension"
   ]
  },
  {
   "cell_type": "code",
   "execution_count": 72,
   "id": "f11ddce9",
   "metadata": {},
   "outputs": [
    {
     "data": {
      "text/plain": [
       "['apple', 'apple']"
      ]
     },
     "execution_count": 72,
     "metadata": {},
     "output_type": "execute_result"
    }
   ],
   "source": [
    "list = [x for x in l3 if \"apple\" == x]\n",
    "list "
   ]
  },
  {
   "cell_type": "code",
   "execution_count": 77,
   "id": "3d8667cc",
   "metadata": {},
   "outputs": [
    {
     "data": {
      "text/plain": [
       "[1, 'banana', 'apple', 'malik', 'apple', '1', '2']"
      ]
     },
     "execution_count": 77,
     "metadata": {},
     "output_type": "execute_result"
    }
   ],
   "source": [
    "l3"
   ]
  },
  {
   "cell_type": "code",
   "execution_count": 79,
   "id": "d9650253",
   "metadata": {},
   "outputs": [],
   "source": [
    "del l3[0]"
   ]
  },
  {
   "cell_type": "code",
   "execution_count": 80,
   "id": "4d575807",
   "metadata": {},
   "outputs": [],
   "source": [
    "del l3[-2:-1]"
   ]
  },
  {
   "cell_type": "code",
   "execution_count": 81,
   "id": "aae6f8af",
   "metadata": {},
   "outputs": [
    {
     "data": {
      "text/plain": [
       "['banana', 'apple', 'malik', 'apple', '2']"
      ]
     },
     "execution_count": 81,
     "metadata": {},
     "output_type": "execute_result"
    }
   ],
   "source": [
    "l3"
   ]
  },
  {
   "cell_type": "code",
   "execution_count": 82,
   "id": "e0b17df0",
   "metadata": {},
   "outputs": [],
   "source": [
    "del l3[-1: -2]"
   ]
  },
  {
   "cell_type": "code",
   "execution_count": 83,
   "id": "9fb5f99f",
   "metadata": {},
   "outputs": [
    {
     "data": {
      "text/plain": [
       "['banana', 'apple', 'malik', 'apple', '2']"
      ]
     },
     "execution_count": 83,
     "metadata": {},
     "output_type": "execute_result"
    }
   ],
   "source": [
    "l3"
   ]
  },
  {
   "cell_type": "code",
   "execution_count": 84,
   "id": "28aed203",
   "metadata": {},
   "outputs": [],
   "source": [
    "del l3[-1:]"
   ]
  },
  {
   "cell_type": "code",
   "execution_count": 85,
   "id": "cb7dbff3",
   "metadata": {},
   "outputs": [
    {
     "data": {
      "text/plain": [
       "['banana', 'apple', 'malik', 'apple']"
      ]
     },
     "execution_count": 85,
     "metadata": {},
     "output_type": "execute_result"
    }
   ],
   "source": [
    "l3"
   ]
  },
  {
   "cell_type": "code",
   "execution_count": 86,
   "id": "e03a7b8a",
   "metadata": {},
   "outputs": [
    {
     "data": {
      "text/plain": [
       "['apple', 'malik', 'apple']"
      ]
     },
     "execution_count": 86,
     "metadata": {},
     "output_type": "execute_result"
    }
   ],
   "source": [
    "newList = [x for x in l3 if \"l\" in x]\n",
    "newList"
   ]
  },
  {
   "cell_type": "code",
   "execution_count": 1,
   "id": "a492f406",
   "metadata": {},
   "outputs": [],
   "source": [
    "#exception\n",
    "s='coding'\n",
    "l=[1,232,3,24,234]"
   ]
  },
  {
   "cell_type": "code",
   "execution_count": 4,
   "id": "9f88e9d2",
   "metadata": {},
   "outputs": [
    {
     "data": {
      "text/plain": [
       "(140554824653168, 140554824653168)"
      ]
     },
     "execution_count": 4,
     "metadata": {},
     "output_type": "execute_result"
    }
   ],
   "source": [
    "id(s),id(s[:])\n"
   ]
  },
  {
   "cell_type": "code",
   "execution_count": 3,
   "id": "912b438d",
   "metadata": {},
   "outputs": [
    {
     "data": {
      "text/plain": [
       "(140554825316928, 140554824761472)"
      ]
     },
     "execution_count": 3,
     "metadata": {},
     "output_type": "execute_result"
    }
   ],
   "source": [
    "id(l),id(l[:])"
   ]
  },
  {
   "cell_type": "code",
   "execution_count": null,
   "id": "00fe799f",
   "metadata": {},
   "outputs": [],
   "source": []
  }
 ],
 "metadata": {
  "kernelspec": {
   "display_name": "Python 3 (ipykernel)",
   "language": "python",
   "name": "python3"
  }
 },
 "nbformat": 4,
 "nbformat_minor": 5
}
