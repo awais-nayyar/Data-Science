{
 "cells": [
  {
   "cell_type": "code",
   "execution_count": 2,
   "id": "ed5585a2",
   "metadata": {},
   "outputs": [],
   "source": [
    "import numpy as np"
   ]
  },
  {
   "cell_type": "code",
   "execution_count": 31,
   "id": "c98767e6",
   "metadata": {},
   "outputs": [
    {
     "name": "stdout",
     "output_type": "stream",
     "text": [
      "[[ 1  5  9]\n",
      " [ 2  6 10]\n",
      " [ 3  7 11]\n",
      " [ 4  8 12]]\n"
     ]
    }
   ],
   "source": [
    "arr = np.array(np.random.randint(1,10, size=(3,3,2)))\n",
    "arr2 = np.array(np.arange(1,13))\n",
    "arr2 = arr2.reshape((4,3) ,order='F')\n",
    "print(arr2)"
   ]
  },
  {
   "cell_type": "code",
   "execution_count": 63,
   "id": "7db74bba",
   "metadata": {},
   "outputs": [
    {
     "name": "stdout",
     "output_type": "stream",
     "text": [
      "[[[ 1  7]\n",
      "  [ 9 12]\n",
      "  [13  7]]\n",
      "\n",
      " [[ 8 11]\n",
      "  [12  3]\n",
      "  [11  4]]\n",
      "\n",
      " [[ 3  1]\n",
      "  [15  1]\n",
      "  [ 3  2]]\n",
      "\n",
      " [[ 6  5]\n",
      "  [21 12]\n",
      "  [ 4  3]]]\n"
     ]
    }
   ],
   "source": [
    "testarray = np.array([1,7,9,12,13,7,8,11,12,3,11,4,3,1,15,1,3,2,6,5,21,12,4,3])\n",
    "testarray = testarray.reshape((4,3,2), order='C')\n",
    "print(testarray)"
   ]
  },
  {
   "cell_type": "code",
   "execution_count": 66,
   "id": "8c72f855",
   "metadata": {},
   "outputs": [
    {
     "name": "stdout",
     "output_type": "stream",
     "text": [
      "[[ 1 15  7  1]\n",
      " [ 8 21 11 12]\n",
      " [ 3 13  1  7]\n",
      " [ 6 11  5  4]\n",
      " [ 9  3 12  2]\n",
      " [12  4  3  3]]\n"
     ]
    }
   ],
   "source": [
    "print(testarray.reshape((6,4), order = 'F'))"
   ]
  },
  {
   "cell_type": "code",
   "execution_count": null,
   "id": "b0292133",
   "metadata": {},
   "outputs": [],
   "source": []
  }
 ],
 "metadata": {
  "kernelspec": {
   "display_name": "Python 3 (ipykernel)",
   "language": "python",
   "name": "python3"
  },
  "language_info": {
   "codemirror_mode": {
    "name": "ipython",
    "version": 3
   },
   "file_extension": ".py",
   "mimetype": "text/x-python",
   "name": "python",
   "nbconvert_exporter": "python",
   "pygments_lexer": "ipython3",
   "version": "3.11.0"
  }
 },
 "nbformat": 4,
 "nbformat_minor": 5
}
