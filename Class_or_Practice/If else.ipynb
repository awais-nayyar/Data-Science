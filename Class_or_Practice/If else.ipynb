{
 "cells": [
  {
   "cell_type": "markdown",
   "id": "11e75d4f",
   "metadata": {},
   "source": [
    "## If Else"
   ]
  },
  {
   "cell_type": "code",
   "execution_count": 20,
   "id": "d00fb080",
   "metadata": {},
   "outputs": [
    {
     "name": "stdout",
     "output_type": "stream",
     "text": [
      "Enter Day: mk\n",
      "You entered an invalid day :-(\n"
     ]
    }
   ],
   "source": [
    "day = input(\"Enter Day: \")\n",
    "day = day.lower()\n",
    "\n",
    "if (day == \"monday\"):\n",
    "    print(\"Get up and ready for office...\")\n",
    "elif (day == \"tuesday\"):\n",
    "    print(\"Get up and ready for office...\")\n",
    "    \n",
    "elif (day == \"wednesday\"):\n",
    "    print(\"Get up and ready for office...\")\n",
    "    \n",
    "elif (day == \"thursday\"):\n",
    "    print(\"Get up and ready for office...\")\n",
    "    \n",
    "elif (day == \"friday\"):\n",
    "    print(\"Get up and ready for office...\")\n",
    "    \n",
    "elif (day == \"saturday\"):\n",
    "    print(\"Get up and ready for office...\")\n",
    "\n",
    "elif (day == \"sunday\"):\n",
    "    print(\"Don't worry Its holiday...\")\n",
    "    \n",
    "else:\n",
    "    print(\"You entered an invalid day :-(\")"
   ]
  },
  {
   "cell_type": "markdown",
   "id": "1165623a",
   "metadata": {},
   "source": [
    "## Python ternary"
   ]
  },
  {
   "cell_type": "code",
   "execution_count": 3,
   "id": "c0241ff8",
   "metadata": {},
   "outputs": [
    {
     "ename": "SyntaxError",
     "evalue": "invalid syntax. Maybe you meant '==' or ':=' instead of '='? (464524314.py, line 4)",
     "output_type": "error",
     "traceback": [
      "\u001b[1;36m  Cell \u001b[1;32mIn[3], line 4\u001b[1;36m\u001b[0m\n\u001b[1;33m    message = \"OK good\" if day == \"sunday\" else message=\"Not good\"\u001b[0m\n\u001b[1;37m    ^\u001b[0m\n\u001b[1;31mSyntaxError\u001b[0m\u001b[1;31m:\u001b[0m invalid syntax. Maybe you meant '==' or ':=' instead of '='?\n"
     ]
    }
   ],
   "source": [
    "day = input(\"Enter day of the week: \")\n",
    "day = day.lower()\n",
    "\n",
    "message = \"OK good\" if day == \"sunday\" else \"Not good\" \n",
    "print(message)"
   ]
  },
  {
   "cell_type": "markdown",
   "id": "46846590",
   "metadata": {},
   "source": [
    "*NOTE:* There is no elif in ternary operator"
   ]
  },
  {
   "cell_type": "markdown",
   "id": "aae86654",
   "metadata": {},
   "source": [
    "### Nested if else"
   ]
  },
  {
   "cell_type": "code",
   "execution_count": 7,
   "id": "425c5b56",
   "metadata": {},
   "outputs": [
    {
     "name": "stdout",
     "output_type": "stream",
     "text": [
      "What is your name?imran\n",
      "Congrats you are in the merit list\n",
      "Do you want a hostel room? Y/Nn\n",
      "Ok fine\n"
     ]
    }
   ],
   "source": [
    "student = input(\"What is your name?\")\n",
    "student = student.lower()\n",
    "\n",
    "if student == \"34FJd\" or student == \"dhd22\":\n",
    "    print(\"Invalid name\")\n",
    "\n",
    "elif student == \"imran\" or student == \"shalaku\":\n",
    "    print(\"Congrats you are in the merit list\")\n",
    "    hostel = input(\"Do you want a hostel room? Y/N\")\n",
    "    hostel = hostel.lower()\n",
    "    if hostel == \"y\":\n",
    "        print(\"Ok fill the form and then submit it in Admission office\")\n",
    "    elif hostel == \"n\":\n",
    "        print(\"Ok fine\")\n",
    "    else:\n",
    "        print(\"please type only Y/N\")\n",
    "else:\n",
    "    print(\"Your are not in the merit list!\")"
   ]
  },
  {
   "cell_type": "code",
   "execution_count": null,
   "id": "527a8665",
   "metadata": {},
   "outputs": [],
   "source": []
  }
 ],
 "metadata": {
  "kernelspec": {
   "display_name": "Python 3 (ipykernel)",
   "language": "python",
   "name": "python3"
  },
  "language_info": {
   "codemirror_mode": {
    "name": "ipython",
    "version": 3
   },
   "file_extension": ".py",
   "mimetype": "text/x-python",
   "name": "python",
   "nbconvert_exporter": "python",
   "pygments_lexer": "ipython3",
   "version": "3.11.0"
  }
 },
 "nbformat": 4,
 "nbformat_minor": 5
}
