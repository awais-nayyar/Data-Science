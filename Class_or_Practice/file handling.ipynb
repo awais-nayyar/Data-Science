{
 "cells": [
  {
   "cell_type": "code",
   "execution_count": 28,
   "id": "c542c470",
   "metadata": {},
   "outputs": [],
   "source": [
    "fd = open(\"file.txt\", \"rt\")"
   ]
  },
  {
   "cell_type": "markdown",
   "id": "6040c91f",
   "metadata": {},
   "source": [
    "#### Take care about current file offset"
   ]
  },
  {
   "cell_type": "code",
   "execution_count": 1,
   "id": "e8760e69",
   "metadata": {
    "scrolled": true
   },
   "outputs": [
    {
     "ename": "NameError",
     "evalue": "name 'fd' is not defined",
     "output_type": "error",
     "traceback": [
      "\u001b[1;31m---------------------------------------------------------------------------\u001b[0m",
      "\u001b[1;31mNameError\u001b[0m                                 Traceback (most recent call last)",
      "Cell \u001b[1;32mIn[1], line 1\u001b[0m\n\u001b[1;32m----> 1\u001b[0m \u001b[38;5;28mprint\u001b[39m(\u001b[43mfd\u001b[49m\u001b[38;5;241m.\u001b[39mread())\n",
      "\u001b[1;31mNameError\u001b[0m: name 'fd' is not defined"
     ]
    }
   ],
   "source": [
    "print(fd.read())"
   ]
  },
  {
   "cell_type": "code",
   "execution_count": 34,
   "id": "2fa4fa13",
   "metadata": {
    "scrolled": true
   },
   "outputs": [
    {
     "name": "stdout",
     "output_type": "stream",
     "text": [
      "s\n"
     ]
    }
   ],
   "source": [
    "print(fd.readline(10))\n",
    "#print(fd.readline(-1))\n",
    "#print(fd.readline())"
   ]
  },
  {
   "cell_type": "code",
   "execution_count": 29,
   "id": "eaa229f9",
   "metadata": {
    "scrolled": true
   },
   "outputs": [
    {
     "name": "stdout",
     "output_type": "stream",
     "text": [
      "['hello this is\\n', 'what is this\\n', 'bro this is']\n"
     ]
    }
   ],
   "source": [
    "print(fd.readlines())"
   ]
  },
  {
   "cell_type": "code",
   "execution_count": 11,
   "id": "98d8108e",
   "metadata": {
    "scrolled": true
   },
   "outputs": [
    {
     "name": "stdout",
     "output_type": "stream",
     "text": [
      "['what is this\\n', 'bro this is']\n"
     ]
    }
   ],
   "source": [
    "print(fd.readlines(13)) #it rounds off the second line"
   ]
  },
  {
   "cell_type": "markdown",
   "id": "9c72ae01",
   "metadata": {},
   "source": [
    "#### writing into file"
   ]
  },
  {
   "cell_type": "code",
   "execution_count": 102,
   "id": "5a60cf78",
   "metadata": {},
   "outputs": [
    {
     "name": "stdout",
     "output_type": "stream",
     "text": [
      "python is good\n"
     ]
    }
   ],
   "source": [
    "fw = open(\"file_write.txt\", \"w+\") # write read mode, if file does not exits,then new file is created, if it exists it will truncate the text\n",
    "ch = fw.write(\"python is good\")    # truncate means clear all the text availble in the file # then wen can write new text in the file\n",
    "#fw.read()\n",
    "fw.seek(0) #it will move the current file offset\n",
    "print(fw.read())\n",
    "fw.close()"
   ]
  },
  {
   "cell_type": "markdown",
   "id": "8e929a3a",
   "metadata": {},
   "source": [
    "#### reading a file"
   ]
  },
  {
   "cell_type": "code",
   "execution_count": 105,
   "id": "3536ba03",
   "metadata": {},
   "outputs": [
    {
     "name": "stdout",
     "output_type": "stream",
     "text": [
      "python is good\n"
     ]
    }
   ],
   "source": [
    "fw = open(\"file_write.txt\", \"r+\") # read write mode, it will not truncate the file, its behavior is like append if we do read first, it will not create given file if it does not exits before\n",
    "print(fw.read()) #comment, uncomment this line to see the difference\n",
    "#fw.write(\"I am a good \") #comment, uncomment this line to see the difference\n",
    "#fw.seek(0)\n",
    "#print(fw.read())\n",
    "#fw.close()"
   ]
  },
  {
   "cell_type": "markdown",
   "id": "ea491cb6",
   "metadata": {},
   "source": [
    "#### continue..."
   ]
  },
  {
   "cell_type": "code",
   "execution_count": 110,
   "id": "65d01efa",
   "metadata": {},
   "outputs": [
    {
     "name": "stdout",
     "output_type": "stream",
     "text": [
      "n is goodI am a good I am a good I am a good I  a good I  a good \n"
     ]
    },
    {
     "data": {
      "text/plain": [
       "5"
      ]
     },
     "execution_count": 110,
     "metadata": {},
     "output_type": "execute_result"
    }
   ],
   "source": [
    "fw.write(\"I  a good \")\n",
    "fw.seek(5)\n",
    "print(fw.read())"
   ]
  },
  {
   "cell_type": "markdown",
   "id": "64bebe1b",
   "metadata": {},
   "source": [
    "#### append mode (it will not truncate the file)"
   ]
  },
  {
   "cell_type": "code",
   "execution_count": 113,
   "id": "10664e04",
   "metadata": {},
   "outputs": [
    {
     "name": "stdout",
     "output_type": "stream",
     "text": [
      "This isThis is This is This is \n"
     ]
    }
   ],
   "source": [
    "fa = open(\"file_append.txt\", \"a+\") #append and read mode, creates file if does not exits\n",
    "fa.write(\"This is \")\n",
    "fa.seek(0)\n",
    "print(fa.read()) #try runnning this cell multiple times to see the difference"
   ]
  }
 ],
 "metadata": {
  "kernelspec": {
   "display_name": "Python 3 (ipykernel)",
   "language": "python",
   "name": "python3"
  },
  "language_info": {
   "codemirror_mode": {
    "name": "ipython",
    "version": 3
   },
   "file_extension": ".py",
   "mimetype": "text/x-python",
   "name": "python",
   "nbconvert_exporter": "python",
   "pygments_lexer": "ipython3",
   "version": "3.11.0"
  }
 },
 "nbformat": 4,
 "nbformat_minor": 5
}
