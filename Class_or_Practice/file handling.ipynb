{
 "cells": [
  {
   "cell_type": "code",
   "execution_count": 28,
   "id": "c542c470",
   "metadata": {},
   "outputs": [],
   "source": [
    "fd = open(\"file.txt\", \"rt\")"
   ]
  },
  {
   "cell_type": "markdown",
   "id": "6040c91f",
   "metadata": {},
   "source": [
    "#### Take care about current file offset"
   ]
  },
  {
   "cell_type": "code",
   "execution_count": 1,
   "id": "e8760e69",
   "metadata": {
    "scrolled": true
   },
   "outputs": [
    {
     "ename": "NameError",
     "evalue": "name 'fd' is not defined",
     "output_type": "error",
     "traceback": [
      "\u001b[1;31m---------------------------------------------------------------------------\u001b[0m",
      "\u001b[1;31mNameError\u001b[0m                                 Traceback (most recent call last)",
      "Cell \u001b[1;32mIn[1], line 1\u001b[0m\n\u001b[1;32m----> 1\u001b[0m \u001b[38;5;28mprint\u001b[39m(\u001b[43mfd\u001b[49m\u001b[38;5;241m.\u001b[39mread())\n",
      "\u001b[1;31mNameError\u001b[0m: name 'fd' is not defined"
     ]
    }
   ],
   "source": [
    "print(fd.read())"
   ]
  },
  {
   "cell_type": "code",
   "execution_count": 34,
   "id": "2fa4fa13",
   "metadata": {
    "scrolled": true
   },
   "outputs": [
    {
     "name": "stdout",
     "output_type": "stream",
     "text": [
      "s\n"
     ]
    }
   ],
   "source": [
    "print(fd.readline(10))\n",
    "#print(fd.readline(-1))\n",
    "#print(fd.readline())"
   ]
  },
  {
   "cell_type": "code",
   "execution_count": 29,
   "id": "eaa229f9",
   "metadata": {
    "scrolled": true
   },
   "outputs": [
    {
     "name": "stdout",
     "output_type": "stream",
     "text": [
      "['hello this is\\n', 'what is this\\n', 'bro this is']\n"
     ]
    }
   ],
   "source": [
    "print(fd.readlines())"
   ]
  },
  {
   "cell_type": "code",
   "execution_count": 11,
   "id": "1c8c6db7",
   "metadata": {
    "scrolled": true
   },
   "outputs": [
    {
     "name": "stdout",
     "output_type": "stream",
     "text": [
      "['what is this\\n', 'bro this is']\n"
     ]
    }
   ],
   "source": [
    "print(fd.readlines(13)) #it rounds off the second line"
   ]
  },
  {
   "cell_type": "markdown",
   "id": "f2ab0f30",
   "metadata": {},
   "source": [
    "#### writing into file"
   ]
  },
  {
   "cell_type": "code",
   "execution_count": 102,
   "id": "0b59f42e",
   "metadata": {},
   "outputs": [
    {
     "name": "stdout",
     "output_type": "stream",
     "text": [
      "python is good\n"
     ]
    }
   ],
   "source": [
    "fw = open(\"file_write.txt\", \"w+\") # write read mode, if file does not exits,then new file is created, if it exists it will truncate the text\n",
    "ch = fw.write(\"python is good\")    # truncate means clear all the text availble in the file # then wen can write new text in the file\n",
    "#fw.read()\n",
    "fw.seek(0) #it will move the current file offset\n",
    "print(fw.read())\n",
    "fw.close()"
   ]
  },
  {
   "cell_type": "markdown",
   "id": "e88bbd04",
   "metadata": {},
   "source": [
    "#### reading a file"
   ]
  },
  {
   "cell_type": "code",
   "execution_count": 105,
   "id": "a23bd60d",
   "metadata": {},
   "outputs": [
    {
     "name": "stdout",
     "output_type": "stream",
     "text": [
      "python is good\n"
     ]
    }
   ],
   "source": [
    "fw = open(\"file_write.txt\", \"r+\") # read write mode, it will not truncate the file, its behavior is like append if we do read first, it will not create given file if it does not exits before\n",
    "print(fw.read()) #comment, uncomment this line to see the difference\n",
    "#fw.write(\"I am a good \") #comment, uncomment this line to see the difference\n",
    "#fw.seek(0)\n",
    "#print(fw.read())\n",
    "#fw.close()"
   ]
  },
  {
   "cell_type": "markdown",
   "id": "f6c6471c",
   "metadata": {},
   "source": [
    "#### continue..."
   ]
  },
  {
   "cell_type": "code",
   "execution_count": 110,
   "id": "5910094e",
   "metadata": {},
   "outputs": [
    {
     "name": "stdout",
     "output_type": "stream",
     "text": [
      "n is goodI am a good I am a good I am a good I  a good I  a good \n"
     ]
    },
    {
     "data": {
      "text/plain": [
       "5"
      ]
     },
     "execution_count": 110,
     "metadata": {},
     "output_type": "execute_result"
    }
   ],
   "source": [
    "fw.write(\"I  a good \")\n",
    "fw.seek(5)\n",
    "print(fw.read())"
   ]
  },
  {
   "cell_type": "markdown",
   "id": "d8c34321",
   "metadata": {},
   "source": [
    "#### append mode (it will not truncate the file)"
   ]
  },
  {
   "cell_type": "code",
   "execution_count": 113,
   "id": "93cb5fc1",
   "metadata": {
    "scrolled": true
   },
   "outputs": [
    {
     "name": "stdout",
     "output_type": "stream",
     "text": [
      "This isThis is This is This is \n"
     ]
    }
   ],
   "source": [
    "fa = open(\"file_append.txt\", \"a+\") #append and read mode, creates file if does not exits\n",
    "fa.write(\"This is \")\n",
    "fa.seek(0)\n",
    "print(fa.read()) #try runnning this cell multiple times to see the difference"
   ]
  },
  {
   "cell_type": "markdown",
   "id": "7509e6ce",
   "metadata": {},
   "source": [
    "#### seek method practice"
   ]
  },
  {
   "cell_type": "code",
   "execution_count": 115,
   "id": "66a132d3",
   "metadata": {},
   "outputs": [
    {
     "data": {
      "text/plain": [
       "12"
      ]
     },
     "execution_count": 115,
     "metadata": {},
     "output_type": "execute_result"
    }
   ],
   "source": [
    "fs = open(\"file_seek.txt\", \"w+\")\n",
    "fs.write(\"This is what\")"
   ]
  },
  {
   "cell_type": "code",
   "execution_count": 116,
   "id": "7dc612d7",
   "metadata": {},
   "outputs": [
    {
     "data": {
      "text/plain": [
       "12"
      ]
     },
     "execution_count": 116,
     "metadata": {},
     "output_type": "execute_result"
    }
   ],
   "source": [
    "fs.seek(0,1) # 1 is whence here, it will always return the position of current file offset"
   ]
  },
  {
   "cell_type": "code",
   "execution_count": 145,
   "id": "f569cda3",
   "metadata": {
    "scrolled": true
   },
   "outputs": [
    {
     "data": {
      "text/plain": [
       "16"
      ]
     },
     "execution_count": 145,
     "metadata": {},
     "output_type": "execute_result"
    }
   ],
   "source": [
    "fs.seek(16)\n",
    "#print(fs.read())"
   ]
  },
  {
   "cell_type": "code",
   "execution_count": 143,
   "id": "75142c76",
   "metadata": {},
   "outputs": [
    {
     "ename": "UnsupportedOperation",
     "evalue": "can't do nonzero end-relative seeks",
     "output_type": "error",
     "traceback": [
      "\u001b[1;31m---------------------------------------------------------------------------\u001b[0m",
      "\u001b[1;31mUnsupportedOperation\u001b[0m                      Traceback (most recent call last)",
      "Cell \u001b[1;32mIn[143], line 1\u001b[0m\n\u001b[1;32m----> 1\u001b[0m \u001b[43mfs\u001b[49m\u001b[38;5;241;43m.\u001b[39;49m\u001b[43mseek\u001b[49m\u001b[43m(\u001b[49m\u001b[38;5;241;43m2\u001b[39;49m\u001b[43m,\u001b[49m\u001b[38;5;241;43m2\u001b[39;49m\u001b[43m)\u001b[49m\n",
      "\u001b[1;31mUnsupportedOperation\u001b[0m: can't do nonzero end-relative seeks"
     ]
    }
   ],
   "source": [
    "fs.seek(2,2)"
   ]
  },
  {
   "cell_type": "code",
   "execution_count": 134,
   "id": "c70a24ba",
   "metadata": {},
   "outputs": [
    {
     "data": {
      "text/plain": [
       "12"
      ]
     },
     "execution_count": 134,
     "metadata": {},
     "output_type": "execute_result"
    }
   ],
   "source": [
    "fs.seek(0,2) # it always take the current file offset to the end of file"
   ]
  },
  {
   "cell_type": "markdown",
   "id": "d2b3813d",
   "metadata": {},
   "source": [
    "#### binary file"
   ]
  },
  {
   "cell_type": "code",
   "execution_count": 144,
   "id": "b7045c20",
   "metadata": {},
   "outputs": [
    {
     "ename": "TypeError",
     "evalue": "a bytes-like object is required, not 'str'",
     "output_type": "error",
     "traceback": [
      "\u001b[1;31m---------------------------------------------------------------------------\u001b[0m",
      "\u001b[1;31mTypeError\u001b[0m                                 Traceback (most recent call last)",
      "Cell \u001b[1;32mIn[144], line 2\u001b[0m\n\u001b[0;32m      1\u001b[0m fsb \u001b[38;5;241m=\u001b[39m \u001b[38;5;28mopen\u001b[39m(\u001b[38;5;124m\"\u001b[39m\u001b[38;5;124mfile_binary.pdf\u001b[39m\u001b[38;5;124m\"\u001b[39m, \u001b[38;5;124m\"\u001b[39m\u001b[38;5;124mw+b\u001b[39m\u001b[38;5;124m\"\u001b[39m)\n\u001b[1;32m----> 2\u001b[0m \u001b[43mfsb\u001b[49m\u001b[38;5;241;43m.\u001b[39;49m\u001b[43mwrite\u001b[49m\u001b[43m(\u001b[49m\u001b[38;5;124;43m\"\u001b[39;49m\u001b[38;5;124;43mThis is what\u001b[39;49m\u001b[38;5;124;43m\"\u001b[39;49m\u001b[43m)\u001b[49m\n",
      "\u001b[1;31mTypeError\u001b[0m: a bytes-like object is required, not 'str'"
     ]
    }
   ],
   "source": [
    "fsb = open(\"file_binary.pdf\", \"w+b\")\n",
    "fsb.write(\"This is what\")\n"
   ]
  },
  {
   "cell_type": "code",
   "execution_count": 129,
   "id": "971304bc",
   "metadata": {
    "scrolled": true
   },
   "outputs": [
    {
     "name": "stdout",
     "output_type": "stream",
     "text": [
      "\n"
     ]
    }
   ],
   "source": [
    "fsb.seek(6)\n",
    "#print(fs.read())"
   ]
  },
  {
   "cell_type": "code",
   "execution_count": 132,
   "id": "b48b3d74",
   "metadata": {},
   "outputs": [
    {
     "ename": "UnsupportedOperation",
     "evalue": "can't do nonzero cur-relative seeks",
     "output_type": "error",
     "traceback": [
      "\u001b[1;31m---------------------------------------------------------------------------\u001b[0m",
      "\u001b[1;31mUnsupportedOperation\u001b[0m                      Traceback (most recent call last)",
      "Cell \u001b[1;32mIn[132], line 1\u001b[0m\n\u001b[1;32m----> 1\u001b[0m \u001b[43mfs\u001b[49m\u001b[38;5;241;43m.\u001b[39;49m\u001b[43mseek\u001b[49m\u001b[43m(\u001b[49m\u001b[38;5;241;43m-\u001b[39;49m\u001b[38;5;241;43m5\u001b[39;49m\u001b[43m,\u001b[49m\u001b[38;5;241;43m1\u001b[39;49m\u001b[43m)\u001b[49m\n",
      "\u001b[1;31mUnsupportedOperation\u001b[0m: can't do nonzero cur-relative seeks"
     ]
    }
   ],
   "source": [
    "fs.seek(-5,1)"
   ]
  }
 ],
 "metadata": {
  "kernelspec": {
   "display_name": "Python 3 (ipykernel)",
   "language": "python",
   "name": "python3"
  },
  "language_info": {
   "codemirror_mode": {
    "name": "ipython",
    "version": 3
   },
   "file_extension": ".py",
   "mimetype": "text/x-python",
   "name": "python",
   "nbconvert_exporter": "python",
   "pygments_lexer": "ipython3",
   "version": "3.11.0"
  }
 },
 "nbformat": 4,
 "nbformat_minor": 5
}
