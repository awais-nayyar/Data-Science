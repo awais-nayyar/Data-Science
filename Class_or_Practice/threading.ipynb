{
 "cells": [
  {
   "cell_type": "markdown",
   "id": "bb288e3b",
   "metadata": {},
   "source": [
    "### Threading example"
   ]
  },
  {
   "cell_type": "code",
   "execution_count": 19,
   "id": "a9850472",
   "metadata": {},
   "outputs": [
    {
     "name": "stdout",
     "output_type": "stream",
     "text": [
      "This is my first Thread with TID: 3028This is my second Thread with TID: 3028\n",
      "\n",
      "\n",
      "This is my first Thread with TID: 3028This is my second Thread with TID: 3028\n",
      "\n",
      "\n",
      "This is my second Thread with TID: 3028\n",
      "\n",
      "This is my first Thread with TID: 3028\n",
      "This is my second Thread with TID: 3028\n",
      "\n",
      "This is my first Thread with TID: 3028\n",
      "done hogya\n"
     ]
    }
   ],
   "source": [
    "import os\n",
    "import threading\n",
    "import time\n",
    "\n",
    "\n",
    "def func1():\n",
    "    for i in range(4):\n",
    "        print(\"This is my first Thread with TID: {}\".format(os.getpid()))\n",
    "        time.sleep(2)\n",
    "\n",
    "def func2():\n",
    "    for i in range(4):\n",
    "        print(\"This is my second Thread with TID: {}\\n\".format(os.getpid()))\n",
    "        time.sleep(2)\n",
    "\n",
    "        \n",
    "t1 = threading.Thread(target = func1)\n",
    "t2 = threading.Thread(target = func2)\n",
    "\n",
    "t1.start()\n",
    "t2.start()\n",
    "\n",
    "t1.join()\n",
    "t2.join()\n",
    "\n",
    "print(\"done hogya\")"
   ]
  },
  {
   "cell_type": "code",
   "execution_count": null,
   "id": "35df389a",
   "metadata": {},
   "outputs": [],
   "source": []
  }
 ],
 "metadata": {
  "kernelspec": {
   "display_name": "Python 3 (ipykernel)",
   "language": "python",
   "name": "python3"
  },
  "language_info": {
   "codemirror_mode": {
    "name": "ipython",
    "version": 3
   },
   "file_extension": ".py",
   "mimetype": "text/x-python",
   "name": "python",
   "nbconvert_exporter": "python",
   "pygments_lexer": "ipython3",
   "version": "3.11.0"
  }
 },
 "nbformat": 4,
 "nbformat_minor": 5
}
