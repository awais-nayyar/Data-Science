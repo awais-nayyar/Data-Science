{
 "cells": [
  {
   "cell_type": "code",
   "execution_count": 27,
   "id": "c542c470",
   "metadata": {},
   "outputs": [],
   "source": [
    "fd = open(\"file.txt\", \"rt\")"
   ]
  },
  {
   "cell_type": "markdown",
   "id": "6040c91f",
   "metadata": {},
   "source": [
    "#### Take care about current file offset"
   ]
  },
  {
   "cell_type": "code",
   "execution_count": 15,
   "id": "e8760e69",
   "metadata": {
    "scrolled": true
   },
   "outputs": [
    {
     "name": "stdout",
     "output_type": "stream",
     "text": [
      "hello this is\n",
      "what is this\n",
      "bro this is\n"
     ]
    }
   ],
   "source": [
    "print(fd.read())"
   ]
  },
  {
   "cell_type": "code",
   "execution_count": 26,
   "id": "2fa4fa13",
   "metadata": {
    "scrolled": true
   },
   "outputs": [
    {
     "name": "stdout",
     "output_type": "stream",
     "text": [
      "hello this is\n",
      "\n",
      "what is this\n",
      "\n"
     ]
    }
   ],
   "source": [
    "#print(fd.readline(8))\n",
    "print(fd.readline(-1))\n",
    "print(fd.readline())"
   ]
  },
  {
   "cell_type": "code",
   "execution_count": 29,
   "id": "eaa229f9",
   "metadata": {},
   "outputs": [
    {
     "name": "stdout",
     "output_type": "stream",
     "text": [
      "['hello this is\\n', 'what is this\\n', 'bro this is']\n"
     ]
    }
   ],
   "source": [
    "print(fd.readlines())"
   ]
  }
 ],
 "metadata": {
  "kernelspec": {
   "display_name": "Python 3 (ipykernel)",
   "language": "python",
   "name": "python3"
  },
  "language_info": {
   "codemirror_mode": {
    "name": "ipython",
    "version": 3
   },
   "file_extension": ".py",
   "mimetype": "text/x-python",
   "name": "python",
   "nbconvert_exporter": "python",
   "pygments_lexer": "ipython3",
   "version": "3.11.0"
  }
 },
 "nbformat": 4,
 "nbformat_minor": 5
}
