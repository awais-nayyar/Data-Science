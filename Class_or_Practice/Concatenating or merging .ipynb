{
 "cells": [
  {
   "cell_type": "code",
   "execution_count": 2,
   "id": "f6875707",
   "metadata": {},
   "outputs": [],
   "source": [
    "import pandas as pd"
   ]
  },
  {
   "cell_type": "code",
   "execution_count": 3,
   "id": "1f7fd244",
   "metadata": {},
   "outputs": [],
   "source": [
    "d1 = ({\"name\":[\"wajid\",\"mujahid\",\"salman\"], \"age\":[23, 23, 42], \"address\":[\"Multan\", \"Lahore\",\"Vehari\"]})\n",
    "d2 = ({\"work\":[\"plumber\",\"mechanic\",\"carpenter\"],\"hobby\":[\"plumbring\",\"exploring\",\"reading\"]})"
   ]
  },
  {
   "cell_type": "code",
   "execution_count": 4,
   "id": "58244f7e",
   "metadata": {},
   "outputs": [],
   "source": [
    "df1 = pd.DataFrame(data=d1)\n",
    "df2 = pd.DataFrame(data=d2)"
   ]
  },
  {
   "cell_type": "code",
   "execution_count": 6,
   "id": "6ee9845c",
   "metadata": {},
   "outputs": [
    {
     "data": {
      "text/html": [
       "<div>\n",
       "<style scoped>\n",
       "    .dataframe tbody tr th:only-of-type {\n",
       "        vertical-align: middle;\n",
       "    }\n",
       "\n",
       "    .dataframe tbody tr th {\n",
       "        vertical-align: top;\n",
       "    }\n",
       "\n",
       "    .dataframe thead th {\n",
       "        text-align: right;\n",
       "    }\n",
       "</style>\n",
       "<table border=\"1\" class=\"dataframe\">\n",
       "  <thead>\n",
       "    <tr style=\"text-align: right;\">\n",
       "      <th></th>\n",
       "      <th>name</th>\n",
       "      <th>age</th>\n",
       "      <th>address</th>\n",
       "    </tr>\n",
       "  </thead>\n",
       "  <tbody>\n",
       "    <tr>\n",
       "      <th>0</th>\n",
       "      <td>wajid</td>\n",
       "      <td>23</td>\n",
       "      <td>Multan</td>\n",
       "    </tr>\n",
       "    <tr>\n",
       "      <th>1</th>\n",
       "      <td>mujahid</td>\n",
       "      <td>23</td>\n",
       "      <td>Lahore</td>\n",
       "    </tr>\n",
       "    <tr>\n",
       "      <th>2</th>\n",
       "      <td>salman</td>\n",
       "      <td>42</td>\n",
       "      <td>Vehari</td>\n",
       "    </tr>\n",
       "  </tbody>\n",
       "</table>\n",
       "</div>"
      ],
      "text/plain": [
       "      name  age address\n",
       "0    wajid   23  Multan\n",
       "1  mujahid   23  Lahore\n",
       "2   salman   42  Vehari"
      ]
     },
     "execution_count": 6,
     "metadata": {},
     "output_type": "execute_result"
    }
   ],
   "source": [
    "df1"
   ]
  },
  {
   "cell_type": "code",
   "execution_count": 7,
   "id": "394c7439",
   "metadata": {},
   "outputs": [
    {
     "data": {
      "text/html": [
       "<div>\n",
       "<style scoped>\n",
       "    .dataframe tbody tr th:only-of-type {\n",
       "        vertical-align: middle;\n",
       "    }\n",
       "\n",
       "    .dataframe tbody tr th {\n",
       "        vertical-align: top;\n",
       "    }\n",
       "\n",
       "    .dataframe thead th {\n",
       "        text-align: right;\n",
       "    }\n",
       "</style>\n",
       "<table border=\"1\" class=\"dataframe\">\n",
       "  <thead>\n",
       "    <tr style=\"text-align: right;\">\n",
       "      <th></th>\n",
       "      <th>work</th>\n",
       "      <th>hobby</th>\n",
       "    </tr>\n",
       "  </thead>\n",
       "  <tbody>\n",
       "    <tr>\n",
       "      <th>0</th>\n",
       "      <td>plumber</td>\n",
       "      <td>plumbring</td>\n",
       "    </tr>\n",
       "    <tr>\n",
       "      <th>1</th>\n",
       "      <td>mechanic</td>\n",
       "      <td>exploring</td>\n",
       "    </tr>\n",
       "    <tr>\n",
       "      <th>2</th>\n",
       "      <td>carpenter</td>\n",
       "      <td>reading</td>\n",
       "    </tr>\n",
       "  </tbody>\n",
       "</table>\n",
       "</div>"
      ],
      "text/plain": [
       "        work      hobby\n",
       "0    plumber  plumbring\n",
       "1   mechanic  exploring\n",
       "2  carpenter    reading"
      ]
     },
     "execution_count": 7,
     "metadata": {},
     "output_type": "execute_result"
    }
   ],
   "source": [
    "df2"
   ]
  },
  {
   "cell_type": "code",
   "execution_count": 8,
   "id": "3acd10e7",
   "metadata": {},
   "outputs": [],
   "source": [
    "df3 = pd.concat([df1,df2],axis=1,join='outer')"
   ]
  },
  {
   "cell_type": "code",
   "execution_count": 9,
   "id": "05284e63",
   "metadata": {},
   "outputs": [
    {
     "data": {
      "text/html": [
       "<div>\n",
       "<style scoped>\n",
       "    .dataframe tbody tr th:only-of-type {\n",
       "        vertical-align: middle;\n",
       "    }\n",
       "\n",
       "    .dataframe tbody tr th {\n",
       "        vertical-align: top;\n",
       "    }\n",
       "\n",
       "    .dataframe thead th {\n",
       "        text-align: right;\n",
       "    }\n",
       "</style>\n",
       "<table border=\"1\" class=\"dataframe\">\n",
       "  <thead>\n",
       "    <tr style=\"text-align: right;\">\n",
       "      <th></th>\n",
       "      <th>name</th>\n",
       "      <th>age</th>\n",
       "      <th>address</th>\n",
       "      <th>work</th>\n",
       "      <th>hobby</th>\n",
       "    </tr>\n",
       "  </thead>\n",
       "  <tbody>\n",
       "    <tr>\n",
       "      <th>0</th>\n",
       "      <td>wajid</td>\n",
       "      <td>23</td>\n",
       "      <td>Multan</td>\n",
       "      <td>plumber</td>\n",
       "      <td>plumbring</td>\n",
       "    </tr>\n",
       "    <tr>\n",
       "      <th>1</th>\n",
       "      <td>mujahid</td>\n",
       "      <td>23</td>\n",
       "      <td>Lahore</td>\n",
       "      <td>mechanic</td>\n",
       "      <td>exploring</td>\n",
       "    </tr>\n",
       "    <tr>\n",
       "      <th>2</th>\n",
       "      <td>salman</td>\n",
       "      <td>42</td>\n",
       "      <td>Vehari</td>\n",
       "      <td>carpenter</td>\n",
       "      <td>reading</td>\n",
       "    </tr>\n",
       "  </tbody>\n",
       "</table>\n",
       "</div>"
      ],
      "text/plain": [
       "      name  age address       work      hobby\n",
       "0    wajid   23  Multan    plumber  plumbring\n",
       "1  mujahid   23  Lahore   mechanic  exploring\n",
       "2   salman   42  Vehari  carpenter    reading"
      ]
     },
     "execution_count": 9,
     "metadata": {},
     "output_type": "execute_result"
    }
   ],
   "source": [
    "df3"
   ]
  },
  {
   "cell_type": "code",
   "execution_count": 11,
   "id": "e9b7d62e",
   "metadata": {},
   "outputs": [],
   "source": [
    "d3 = ({\"name\":[\"wajid\",\"mujahid\",\"salman\"], \"age\":[23, 23, 42], \"address\":[\"Multan\", \"Lahore\",\"Vehari\"]})\n",
    "d4 = ({\"work\":[\"plumber\",\"mechanic\"],\"hobby\":[\"plumbring\",\"exploring\"]})"
   ]
  },
  {
   "cell_type": "code",
   "execution_count": 12,
   "id": "d68c8e9f",
   "metadata": {},
   "outputs": [],
   "source": [
    "df3 = pd.DataFrame(d3)\n",
    "df4 = pd.DataFrame(d4)"
   ]
  },
  {
   "cell_type": "code",
   "execution_count": 16,
   "id": "383417bb",
   "metadata": {},
   "outputs": [
    {
     "data": {
      "text/html": [
       "<div>\n",
       "<style scoped>\n",
       "    .dataframe tbody tr th:only-of-type {\n",
       "        vertical-align: middle;\n",
       "    }\n",
       "\n",
       "    .dataframe tbody tr th {\n",
       "        vertical-align: top;\n",
       "    }\n",
       "\n",
       "    .dataframe thead th {\n",
       "        text-align: right;\n",
       "    }\n",
       "</style>\n",
       "<table border=\"1\" class=\"dataframe\">\n",
       "  <thead>\n",
       "    <tr style=\"text-align: right;\">\n",
       "      <th></th>\n",
       "      <th>name</th>\n",
       "      <th>age</th>\n",
       "      <th>address</th>\n",
       "      <th>work</th>\n",
       "      <th>hobby</th>\n",
       "    </tr>\n",
       "  </thead>\n",
       "  <tbody>\n",
       "    <tr>\n",
       "      <th>0</th>\n",
       "      <td>wajid</td>\n",
       "      <td>23</td>\n",
       "      <td>Multan</td>\n",
       "      <td>plumber</td>\n",
       "      <td>plumbring</td>\n",
       "    </tr>\n",
       "    <tr>\n",
       "      <th>1</th>\n",
       "      <td>mujahid</td>\n",
       "      <td>23</td>\n",
       "      <td>Lahore</td>\n",
       "      <td>mechanic</td>\n",
       "      <td>exploring</td>\n",
       "    </tr>\n",
       "    <tr>\n",
       "      <th>2</th>\n",
       "      <td>salman</td>\n",
       "      <td>42</td>\n",
       "      <td>Vehari</td>\n",
       "      <td>NaN</td>\n",
       "      <td>NaN</td>\n",
       "    </tr>\n",
       "  </tbody>\n",
       "</table>\n",
       "</div>"
      ],
      "text/plain": [
       "      name  age address      work      hobby\n",
       "0    wajid   23  Multan   plumber  plumbring\n",
       "1  mujahid   23  Lahore  mechanic  exploring\n",
       "2   salman   42  Vehari       NaN        NaN"
      ]
     },
     "execution_count": 16,
     "metadata": {},
     "output_type": "execute_result"
    }
   ],
   "source": [
    "df5 = pd.concat([df3,df4],axis=1,join='outer')\n",
    "df5"
   ]
  },
  {
   "cell_type": "code",
   "execution_count": 19,
   "id": "ad4ea7e4",
   "metadata": {},
   "outputs": [
    {
     "data": {
      "text/html": [
       "<div>\n",
       "<style scoped>\n",
       "    .dataframe tbody tr th:only-of-type {\n",
       "        vertical-align: middle;\n",
       "    }\n",
       "\n",
       "    .dataframe tbody tr th {\n",
       "        vertical-align: top;\n",
       "    }\n",
       "\n",
       "    .dataframe thead th {\n",
       "        text-align: right;\n",
       "    }\n",
       "</style>\n",
       "<table border=\"1\" class=\"dataframe\">\n",
       "  <thead>\n",
       "    <tr style=\"text-align: right;\">\n",
       "      <th></th>\n",
       "      <th>name</th>\n",
       "      <th>age</th>\n",
       "      <th>address</th>\n",
       "      <th>work</th>\n",
       "      <th>hobby</th>\n",
       "    </tr>\n",
       "  </thead>\n",
       "  <tbody>\n",
       "    <tr>\n",
       "      <th>0</th>\n",
       "      <td>wajid</td>\n",
       "      <td>23</td>\n",
       "      <td>Multan</td>\n",
       "      <td>plumber</td>\n",
       "      <td>plumbring</td>\n",
       "    </tr>\n",
       "    <tr>\n",
       "      <th>1</th>\n",
       "      <td>mujahid</td>\n",
       "      <td>23</td>\n",
       "      <td>Lahore</td>\n",
       "      <td>mechanic</td>\n",
       "      <td>exploring</td>\n",
       "    </tr>\n",
       "  </tbody>\n",
       "</table>\n",
       "</div>"
      ],
      "text/plain": [
       "      name  age address      work      hobby\n",
       "0    wajid   23  Multan   plumber  plumbring\n",
       "1  mujahid   23  Lahore  mechanic  exploring"
      ]
     },
     "execution_count": 19,
     "metadata": {},
     "output_type": "execute_result"
    }
   ],
   "source": [
    "df5 = pd.concat([df3,df4],axis=1,join='inner') \n",
    "df5"
   ]
  },
  {
   "cell_type": "markdown",
   "id": "9c60cbc4",
   "metadata": {},
   "source": [
    "### Joins/Merging"
   ]
  },
  {
   "cell_type": "code",
   "execution_count": 35,
   "id": "b3c3b6f7",
   "metadata": {},
   "outputs": [],
   "source": [
    "d3 = ({\"name\":[\"wajid\",\"mujahid\",\"salman\"], \"age\":[23, 23, 42], \"address\":[\"Multan\", \"Lahore\",\"Vehari\"]})\n",
    "d4 = ({\"work\":[\"plumber\",\"mechanic\"],  \"age\":[23, 23], \"hobby\":[\"plumbring\",\"exploring\"]})"
   ]
  },
  {
   "cell_type": "code",
   "execution_count": 36,
   "id": "68b6d7b0",
   "metadata": {},
   "outputs": [],
   "source": [
    "df5 = pd.DataFrame(d3)\n",
    "df6 = pd.DataFrame(d4)"
   ]
  },
  {
   "cell_type": "code",
   "execution_count": 37,
   "id": "9ca799e6",
   "metadata": {},
   "outputs": [
    {
     "data": {
      "text/html": [
       "<div>\n",
       "<style scoped>\n",
       "    .dataframe tbody tr th:only-of-type {\n",
       "        vertical-align: middle;\n",
       "    }\n",
       "\n",
       "    .dataframe tbody tr th {\n",
       "        vertical-align: top;\n",
       "    }\n",
       "\n",
       "    .dataframe thead th {\n",
       "        text-align: right;\n",
       "    }\n",
       "</style>\n",
       "<table border=\"1\" class=\"dataframe\">\n",
       "  <thead>\n",
       "    <tr style=\"text-align: right;\">\n",
       "      <th></th>\n",
       "      <th>name</th>\n",
       "      <th>age</th>\n",
       "      <th>address</th>\n",
       "      <th>work</th>\n",
       "      <th>hobby</th>\n",
       "    </tr>\n",
       "  </thead>\n",
       "  <tbody>\n",
       "    <tr>\n",
       "      <th>0</th>\n",
       "      <td>wajid</td>\n",
       "      <td>23</td>\n",
       "      <td>Multan</td>\n",
       "      <td>plumber</td>\n",
       "      <td>plumbring</td>\n",
       "    </tr>\n",
       "    <tr>\n",
       "      <th>1</th>\n",
       "      <td>wajid</td>\n",
       "      <td>23</td>\n",
       "      <td>Multan</td>\n",
       "      <td>mechanic</td>\n",
       "      <td>exploring</td>\n",
       "    </tr>\n",
       "    <tr>\n",
       "      <th>2</th>\n",
       "      <td>mujahid</td>\n",
       "      <td>23</td>\n",
       "      <td>Lahore</td>\n",
       "      <td>plumber</td>\n",
       "      <td>plumbring</td>\n",
       "    </tr>\n",
       "    <tr>\n",
       "      <th>3</th>\n",
       "      <td>mujahid</td>\n",
       "      <td>23</td>\n",
       "      <td>Lahore</td>\n",
       "      <td>mechanic</td>\n",
       "      <td>exploring</td>\n",
       "    </tr>\n",
       "    <tr>\n",
       "      <th>4</th>\n",
       "      <td>salman</td>\n",
       "      <td>42</td>\n",
       "      <td>Vehari</td>\n",
       "      <td>NaN</td>\n",
       "      <td>NaN</td>\n",
       "    </tr>\n",
       "  </tbody>\n",
       "</table>\n",
       "</div>"
      ],
      "text/plain": [
       "      name  age address      work      hobby\n",
       "0    wajid   23  Multan   plumber  plumbring\n",
       "1    wajid   23  Multan  mechanic  exploring\n",
       "2  mujahid   23  Lahore   plumber  plumbring\n",
       "3  mujahid   23  Lahore  mechanic  exploring\n",
       "4   salman   42  Vehari       NaN        NaN"
      ]
     },
     "execution_count": 37,
     "metadata": {},
     "output_type": "execute_result"
    }
   ],
   "source": [
    "pd.merge(df5, df6, how='outer')"
   ]
  },
  {
   "cell_type": "code",
   "execution_count": 38,
   "id": "3381666d",
   "metadata": {},
   "outputs": [
    {
     "data": {
      "text/html": [
       "<div>\n",
       "<style scoped>\n",
       "    .dataframe tbody tr th:only-of-type {\n",
       "        vertical-align: middle;\n",
       "    }\n",
       "\n",
       "    .dataframe tbody tr th {\n",
       "        vertical-align: top;\n",
       "    }\n",
       "\n",
       "    .dataframe thead th {\n",
       "        text-align: right;\n",
       "    }\n",
       "</style>\n",
       "<table border=\"1\" class=\"dataframe\">\n",
       "  <thead>\n",
       "    <tr style=\"text-align: right;\">\n",
       "      <th></th>\n",
       "      <th>name</th>\n",
       "      <th>age</th>\n",
       "      <th>address</th>\n",
       "      <th>work</th>\n",
       "      <th>hobby</th>\n",
       "    </tr>\n",
       "  </thead>\n",
       "  <tbody>\n",
       "    <tr>\n",
       "      <th>0</th>\n",
       "      <td>wajid</td>\n",
       "      <td>23</td>\n",
       "      <td>Multan</td>\n",
       "      <td>plumber</td>\n",
       "      <td>plumbring</td>\n",
       "    </tr>\n",
       "    <tr>\n",
       "      <th>1</th>\n",
       "      <td>wajid</td>\n",
       "      <td>23</td>\n",
       "      <td>Multan</td>\n",
       "      <td>mechanic</td>\n",
       "      <td>exploring</td>\n",
       "    </tr>\n",
       "    <tr>\n",
       "      <th>2</th>\n",
       "      <td>mujahid</td>\n",
       "      <td>23</td>\n",
       "      <td>Lahore</td>\n",
       "      <td>plumber</td>\n",
       "      <td>plumbring</td>\n",
       "    </tr>\n",
       "    <tr>\n",
       "      <th>3</th>\n",
       "      <td>mujahid</td>\n",
       "      <td>23</td>\n",
       "      <td>Lahore</td>\n",
       "      <td>mechanic</td>\n",
       "      <td>exploring</td>\n",
       "    </tr>\n",
       "  </tbody>\n",
       "</table>\n",
       "</div>"
      ],
      "text/plain": [
       "      name  age address      work      hobby\n",
       "0    wajid   23  Multan   plumber  plumbring\n",
       "1    wajid   23  Multan  mechanic  exploring\n",
       "2  mujahid   23  Lahore   plumber  plumbring\n",
       "3  mujahid   23  Lahore  mechanic  exploring"
      ]
     },
     "execution_count": 38,
     "metadata": {},
     "output_type": "execute_result"
    }
   ],
   "source": [
    "pd.merge(df5, df6, how='inner')"
   ]
  },
  {
   "cell_type": "code",
   "execution_count": null,
   "id": "2f822815",
   "metadata": {},
   "outputs": [],
   "source": []
  }
 ],
 "metadata": {
  "kernelspec": {
   "display_name": "Python 3 (ipykernel)",
   "language": "python",
   "name": "python3"
  },
  "language_info": {
   "codemirror_mode": {
    "name": "ipython",
    "version": 3
   },
   "file_extension": ".py",
   "mimetype": "text/x-python",
   "name": "python",
   "nbconvert_exporter": "python",
   "pygments_lexer": "ipython3",
   "version": "3.11.0"
  }
 },
 "nbformat": 4,
 "nbformat_minor": 5
}
