{
 "cells": [
  {
   "cell_type": "code",
   "execution_count": 2,
   "id": "e3a57710",
   "metadata": {},
   "outputs": [],
   "source": [
    "import numpy as np"
   ]
  },
  {
   "cell_type": "code",
   "execution_count": 4,
   "id": "bbfe3c7e",
   "metadata": {
    "scrolled": true
   },
   "outputs": [
    {
     "data": {
      "text/plain": [
       "array([[[ 6, 23],\n",
       "        [33, 15],\n",
       "        [37, 32],\n",
       "        [ 4, 23]],\n",
       "\n",
       "       [[14,  7],\n",
       "        [30, 21],\n",
       "        [15, 29],\n",
       "        [46, 32]],\n",
       "\n",
       "       [[47,  9],\n",
       "        [22, 27],\n",
       "        [32, 25],\n",
       "        [17, 47]]])"
      ]
     },
     "execution_count": 4,
     "metadata": {},
     "output_type": "execute_result"
    }
   ],
   "source": [
    "arr = np.random.randint(1,51,(3,4,2))\n",
    "arr"
   ]
  },
  {
   "cell_type": "code",
   "execution_count": 5,
   "id": "d6629a0e",
   "metadata": {},
   "outputs": [
    {
     "ename": "ModuleNotFoundError",
     "evalue": "No module named 'scipy'",
     "output_type": "error",
     "traceback": [
      "\u001b[1;31m---------------------------------------------------------------------------\u001b[0m",
      "\u001b[1;31mModuleNotFoundError\u001b[0m                       Traceback (most recent call last)",
      "Cell \u001b[1;32mIn[5], line 1\u001b[0m\n\u001b[1;32m----> 1\u001b[0m \u001b[38;5;28;01mimport\u001b[39;00m \u001b[38;5;21;01mscipy\u001b[39;00m \u001b[38;5;28;01mas\u001b[39;00m \u001b[38;5;21;01msc\u001b[39;00m\n",
      "\u001b[1;31mModuleNotFoundError\u001b[0m: No module named 'scipy'"
     ]
    }
   ],
   "source": [
    "import scipy as sc"
   ]
  },
  {
   "cell_type": "code",
   "execution_count": 7,
   "id": "869326ad",
   "metadata": {},
   "outputs": [
    {
     "data": {
      "text/plain": [
       "0.594059405940594"
      ]
     },
     "execution_count": 7,
     "metadata": {},
     "output_type": "execute_result"
    }
   ],
   "source": [
    "arr = np.array([2,5,9,3,8,10])\n",
    "\n",
    "count = 0\n",
    "def calc_mean(arr):\n",
    "    for i in arr:\n",
    "        count = i + (1/i)\n",
    "    n = len(arr)\n",
    "    return n/count\n",
    "\n",
    "calc_mean(arr)"
   ]
  },
  {
   "cell_type": "code",
   "execution_count": 25,
   "id": "f6faa8ed",
   "metadata": {},
   "outputs": [
    {
     "name": "stdout",
     "output_type": "stream",
     "text": [
      "[[[ 5 10 15]\n",
      "  [20 25 30]]\n",
      "\n",
      " [[35 40 45]\n",
      "  [50 55 60]]\n",
      "\n",
      " [[65 70 75]\n",
      "  [80 85 90]]]\n",
      "arr[-3]\n",
      " [[ 5 10 15]\n",
      " [20 25 30]]\n",
      "\n",
      " [[80 85 90]]\n",
      "(24, 12, 4)\n"
     ]
    }
   ],
   "source": [
    "arr = np.arange(5,95,5).reshape(3,2,3)\n",
    "print(arr)\n",
    "print(\"arr[-3]\\n\", arr[-3])\n",
    "print(\"\\n\",arr[-1, 1:3])\n",
    "print(arr.strides)"
   ]
  },
  {
   "cell_type": "code",
   "execution_count": 51,
   "id": "821b3aa9",
   "metadata": {},
   "outputs": [
    {
     "name": "stdout",
     "output_type": "stream",
     "text": [
      "[[ 0  4  8]\n",
      " [ 1  5  9]\n",
      " [ 2  6 10]\n",
      " [ 3  7 11]]\n",
      "[array([[0],\n",
      "       [1],\n",
      "       [2],\n",
      "       [3]]), array([[ 4,  8],\n",
      "       [ 5,  9],\n",
      "       [ 6, 10],\n",
      "       [ 7, 11]]), array([], shape=(4, 0), dtype=int32)]\n"
     ]
    },
    {
     "data": {
      "text/plain": [
       "array([ 0,  1,  2,  3,  4,  5,  6,  7,  8,  9, 10, 11])"
      ]
     },
     "execution_count": 51,
     "metadata": {},
     "output_type": "execute_result"
    }
   ],
   "source": [
    "arr1 = np.arange(12)\n",
    "arr2 = np.reshape(arr1,(4,3),order='F')\n",
    "print(arr2)\n",
    "arr3 = np.arange(16).reshape(4,4)\n",
    "#arr3\n",
    "print(np.split(arr2, [1,3], axis=1))\n",
    "arr1"
   ]
  },
  {
   "cell_type": "code",
   "execution_count": 31,
   "id": "61f45522",
   "metadata": {},
   "outputs": [
    {
     "data": {
      "text/plain": [
       "array([[ 0,  1,  2,  3],\n",
       "       [ 4,  5,  6,  7],\n",
       "       [ 8,  9, 10, 11],\n",
       "       [12, 13, 14, 15]])"
      ]
     },
     "execution_count": 31,
     "metadata": {},
     "output_type": "execute_result"
    }
   ],
   "source": [
    "arr3 = np.arange(16).reshape(4,4)\n",
    "arr3"
   ]
  },
  {
   "cell_type": "code",
   "execution_count": 57,
   "id": "c716b416",
   "metadata": {},
   "outputs": [
    {
     "name": "stdout",
     "output_type": "stream",
     "text": [
      "[[2 5 1]\n",
      " [3 6 2]]\n",
      "[2 5 1 3 6 2]\n",
      "[[2 3]\n",
      " [5 6]\n",
      " [1 2]]\n",
      "[[2. 3.]\n",
      " [5. 6.]\n",
      " [1. 2.]]\n"
     ]
    }
   ],
   "source": [
    "arr1 = np.array([2,5,1])\n",
    "arr2 = np.array([3,6,2])\n",
    "out_array = np.empty((3,2))\n",
    "arr3 = np.vstack((arr1, arr2))\n",
    "arr4 = np.hstack((arr1, arr2))\n",
    "np.stack((arr1, arr2), axis =1 ,out=out_array)\n",
    "print (arr3)\n",
    "print (arr4)\n",
    "print (arr5)\n",
    "print(out_array)"
   ]
  },
  {
   "cell_type": "code",
   "execution_count": null,
   "id": "69cc101b",
   "metadata": {},
   "outputs": [],
   "source": [
    "np.concatenate()"
   ]
  },
  {
   "cell_type": "code",
   "execution_count": 68,
   "id": "15706dc0",
   "metadata": {},
   "outputs": [
    {
     "data": {
      "text/html": [
       "<div>\n",
       "<style scoped>\n",
       "    .dataframe tbody tr th:only-of-type {\n",
       "        vertical-align: middle;\n",
       "    }\n",
       "\n",
       "    .dataframe tbody tr th {\n",
       "        vertical-align: top;\n",
       "    }\n",
       "\n",
       "    .dataframe thead th {\n",
       "        text-align: right;\n",
       "    }\n",
       "</style>\n",
       "<table border=\"1\" class=\"dataframe\">\n",
       "  <thead>\n",
       "    <tr style=\"text-align: right;\">\n",
       "      <th></th>\n",
       "      <th>A</th>\n",
       "      <th>B</th>\n",
       "    </tr>\n",
       "  </thead>\n",
       "  <tbody>\n",
       "    <tr>\n",
       "      <th>0</th>\n",
       "      <td>1</td>\n",
       "      <td>A</td>\n",
       "    </tr>\n",
       "    <tr>\n",
       "      <th>1</th>\n",
       "      <td>4</td>\n",
       "      <td>B</td>\n",
       "    </tr>\n",
       "    <tr>\n",
       "      <th>2</th>\n",
       "      <td>3</td>\n",
       "      <td>C</td>\n",
       "    </tr>\n",
       "    <tr>\n",
       "      <th>3</th>\n",
       "      <td>2</td>\n",
       "      <td>D</td>\n",
       "    </tr>\n",
       "    <tr>\n",
       "      <th>4</th>\n",
       "      <td>5</td>\n",
       "      <td>E</td>\n",
       "    </tr>\n",
       "  </tbody>\n",
       "</table>\n",
       "</div>"
      ],
      "text/plain": [
       "   A  B\n",
       "0  1  A\n",
       "1  4  B\n",
       "2  3  C\n",
       "3  2  D\n",
       "4  5  E"
      ]
     },
     "execution_count": 68,
     "metadata": {},
     "output_type": "execute_result"
    }
   ],
   "source": [
    "import pandas as pd\n",
    "\n",
    "# create a sample dataframe\n",
    "df = pd.DataFrame({'A': [1, 4, 3, 2, 5],\n",
    "                   'B': ['A', 'B', 'C', 'D', 'E']})\n",
    "df\n"
   ]
  },
  {
   "cell_type": "code",
   "execution_count": 69,
   "id": "ce6cf980",
   "metadata": {},
   "outputs": [
    {
     "name": "stdout",
     "output_type": "stream",
     "text": [
      "   A  B\n",
      "3  2  D\n"
     ]
    }
   ],
   "source": [
    "# randomly sample one row from the dataframe\n",
    "sample = df.sample()\n",
    "\n",
    "print(sample)"
   ]
  },
  {
   "cell_type": "code",
   "execution_count": 70,
   "id": "ba26d6d9",
   "metadata": {},
   "outputs": [
    {
     "data": {
      "text/html": [
       "<div>\n",
       "<style scoped>\n",
       "    .dataframe tbody tr th:only-of-type {\n",
       "        vertical-align: middle;\n",
       "    }\n",
       "\n",
       "    .dataframe tbody tr th {\n",
       "        vertical-align: top;\n",
       "    }\n",
       "\n",
       "    .dataframe thead th {\n",
       "        text-align: right;\n",
       "    }\n",
       "</style>\n",
       "<table border=\"1\" class=\"dataframe\">\n",
       "  <thead>\n",
       "    <tr style=\"text-align: right;\">\n",
       "      <th></th>\n",
       "      <th>A</th>\n",
       "      <th>B</th>\n",
       "    </tr>\n",
       "  </thead>\n",
       "  <tbody>\n",
       "    <tr>\n",
       "      <th>0</th>\n",
       "      <td>1</td>\n",
       "      <td>A</td>\n",
       "    </tr>\n",
       "    <tr>\n",
       "      <th>3</th>\n",
       "      <td>2</td>\n",
       "      <td>D</td>\n",
       "    </tr>\n",
       "    <tr>\n",
       "      <th>2</th>\n",
       "      <td>3</td>\n",
       "      <td>C</td>\n",
       "    </tr>\n",
       "  </tbody>\n",
       "</table>\n",
       "</div>"
      ],
      "text/plain": [
       "   A  B\n",
       "0  1  A\n",
       "3  2  D\n",
       "2  3  C"
      ]
     },
     "execution_count": 70,
     "metadata": {},
     "output_type": "execute_result"
    }
   ],
   "source": [
    "smallest = df.nsmallest(3, 'A')\n",
    "smallest"
   ]
  },
  {
   "cell_type": "code",
   "execution_count": null,
   "id": "159678bb",
   "metadata": {},
   "outputs": [],
   "source": [
    "df.nsmallest(3, 'A') #here 3 means show 3 rows and 'A' is the col lable \n",
    "df.nlargest(3, 'A')  #here 3 means show 3 rows and 'A' is the col lable\n",
    "sort = df.sort_values('A', kind='quicksort',ascending=True) #by default ascending=True"
   ]
  },
  {
   "cell_type": "code",
   "execution_count": 72,
   "id": "6130c4d4",
   "metadata": {},
   "outputs": [
    {
     "data": {
      "text/html": [
       "<div>\n",
       "<style scoped>\n",
       "    .dataframe tbody tr th:only-of-type {\n",
       "        vertical-align: middle;\n",
       "    }\n",
       "\n",
       "    .dataframe tbody tr th {\n",
       "        vertical-align: top;\n",
       "    }\n",
       "\n",
       "    .dataframe thead th {\n",
       "        text-align: right;\n",
       "    }\n",
       "</style>\n",
       "<table border=\"1\" class=\"dataframe\">\n",
       "  <thead>\n",
       "    <tr style=\"text-align: right;\">\n",
       "      <th></th>\n",
       "      <th>A</th>\n",
       "      <th>B</th>\n",
       "    </tr>\n",
       "  </thead>\n",
       "  <tbody>\n",
       "    <tr>\n",
       "      <th>4</th>\n",
       "      <td>5</td>\n",
       "      <td>E</td>\n",
       "    </tr>\n",
       "    <tr>\n",
       "      <th>1</th>\n",
       "      <td>4</td>\n",
       "      <td>B</td>\n",
       "    </tr>\n",
       "    <tr>\n",
       "      <th>2</th>\n",
       "      <td>3</td>\n",
       "      <td>C</td>\n",
       "    </tr>\n",
       "  </tbody>\n",
       "</table>\n",
       "</div>"
      ],
      "text/plain": [
       "   A  B\n",
       "4  5  E\n",
       "1  4  B\n",
       "2  3  C"
      ]
     },
     "execution_count": 72,
     "metadata": {},
     "output_type": "execute_result"
    }
   ],
   "source": [
    "# select the two largest values in column 'A'\n",
    "largest = df.nlargest(3, 'A')\n",
    "largest"
   ]
  },
  {
   "cell_type": "code",
   "execution_count": 77,
   "id": "96d3ee54",
   "metadata": {},
   "outputs": [
    {
     "data": {
      "text/html": [
       "<div>\n",
       "<style scoped>\n",
       "    .dataframe tbody tr th:only-of-type {\n",
       "        vertical-align: middle;\n",
       "    }\n",
       "\n",
       "    .dataframe tbody tr th {\n",
       "        vertical-align: top;\n",
       "    }\n",
       "\n",
       "    .dataframe thead th {\n",
       "        text-align: right;\n",
       "    }\n",
       "</style>\n",
       "<table border=\"1\" class=\"dataframe\">\n",
       "  <thead>\n",
       "    <tr style=\"text-align: right;\">\n",
       "      <th></th>\n",
       "      <th>A</th>\n",
       "      <th>B</th>\n",
       "    </tr>\n",
       "  </thead>\n",
       "  <tbody>\n",
       "    <tr>\n",
       "      <th>4</th>\n",
       "      <td>5</td>\n",
       "      <td>E</td>\n",
       "    </tr>\n",
       "    <tr>\n",
       "      <th>1</th>\n",
       "      <td>4</td>\n",
       "      <td>B</td>\n",
       "    </tr>\n",
       "    <tr>\n",
       "      <th>2</th>\n",
       "      <td>3</td>\n",
       "      <td>C</td>\n",
       "    </tr>\n",
       "    <tr>\n",
       "      <th>3</th>\n",
       "      <td>2</td>\n",
       "      <td>D</td>\n",
       "    </tr>\n",
       "    <tr>\n",
       "      <th>0</th>\n",
       "      <td>1</td>\n",
       "      <td>A</td>\n",
       "    </tr>\n",
       "  </tbody>\n",
       "</table>\n",
       "</div>"
      ],
      "text/plain": [
       "   A  B\n",
       "4  5  E\n",
       "1  4  B\n",
       "2  3  C\n",
       "3  2  D\n",
       "0  1  A"
      ]
     },
     "execution_count": 77,
     "metadata": {},
     "output_type": "execute_result"
    }
   ],
   "source": [
    "# select the two largest values in column 'A'\n",
    "sort = df.sort_values('A', kind='quicksort',ascending=True)\n",
    "sort"
   ]
  }
 ],
 "metadata": {
  "kernelspec": {
   "display_name": "Python 3 (ipykernel)",
   "language": "python",
   "name": "python3"
  },
  "language_info": {
   "codemirror_mode": {
    "name": "ipython",
    "version": 3
   },
   "file_extension": ".py",
   "mimetype": "text/x-python",
   "name": "python",
   "nbconvert_exporter": "python",
   "pygments_lexer": "ipython3",
   "version": "3.11.0"
  }
 },
 "nbformat": 4,
 "nbformat_minor": 5
}
