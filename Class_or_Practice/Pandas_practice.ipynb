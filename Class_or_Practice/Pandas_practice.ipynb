{
 "cells": [
  {
   "cell_type": "markdown",
   "id": "44a585b9",
   "metadata": {},
   "source": [
    "### Pandas"
   ]
  },
  {
   "cell_type": "code",
   "execution_count": 8,
   "id": "f0cf501f",
   "metadata": {},
   "outputs": [],
   "source": [
    "import pandas as pd\n",
    "import numpy as np"
   ]
  },
  {
   "cell_type": "code",
   "execution_count": 22,
   "id": "7fbe96e8",
   "metadata": {},
   "outputs": [],
   "source": [
    "list1 = [12, 34, 13, 3,4,5,5,43,1,2]\n",
    "marks = [12, 34, 13, 3,4,5,5,43,1,2]\n",
    "name = ['awais', 'imran', 'shalaku', 'malaku', 'arif','awais', 'nayyar', 'anas', 'ahmad', 'arslan']"
   ]
  },
  {
   "cell_type": "code",
   "execution_count": 14,
   "id": "fb4e836b",
   "metadata": {},
   "outputs": [
    {
     "data": {
      "text/plain": [
       "0    12\n",
       "1    34\n",
       "2    13\n",
       "3     3\n",
       "4     4\n",
       "5     5\n",
       "6     5\n",
       "7    43\n",
       "8     1\n",
       "9     2\n",
       "Name: marks, dtype: int64"
      ]
     },
     "execution_count": 14,
     "metadata": {},
     "output_type": "execute_result"
    }
   ],
   "source": [
    "s = pd.Series(list1, name='marks')\n",
    "s"
   ]
  },
  {
   "cell_type": "code",
   "execution_count": 23,
   "id": "ba49c1be",
   "metadata": {},
   "outputs": [
    {
     "data": {
      "text/plain": [
       "awais      12\n",
       "imran      34\n",
       "shalaku    13\n",
       "malaku      3\n",
       "arif        4\n",
       "awais       5\n",
       "nayyar      5\n",
       "anas       43\n",
       "ahmad       1\n",
       "arslan      2\n",
       "Name: marks, dtype: int64"
      ]
     },
     "execution_count": 23,
     "metadata": {},
     "output_type": "execute_result"
    }
   ],
   "source": [
    "s1 = pd.Series(marks, name, dtype=np.int64, name='marks')\n",
    "s1"
   ]
  },
  {
   "cell_type": "code",
   "execution_count": 24,
   "id": "18a968ca",
   "metadata": {},
   "outputs": [
    {
     "data": {
      "text/plain": [
       "awais    12\n",
       "awais     5\n",
       "Name: marks, dtype: int64"
      ]
     },
     "execution_count": 24,
     "metadata": {},
     "output_type": "execute_result"
    }
   ],
   "source": [
    "s1['awais']"
   ]
  },
  {
   "cell_type": "code",
   "execution_count": 27,
   "id": "35e2bc92",
   "metadata": {},
   "outputs": [
    {
     "name": "stdout",
     "output_type": "stream",
     "text": [
      "[1, 2]      Arif\n",
      "{2, 3}      Rauf\n",
      "(2, 4)      Maaz\n",
      "(3, 4)    Hadeed\n",
      "dtype: object\n",
      "<class 'pandas.core.series.Series'>\n"
     ]
    }
   ],
   "source": [
    "list1 = ['Arif', 'Rauf', 'Maaz', 'Hadeed']\n",
    "#indices = [True, False, True, False] \n",
    "indices = [[1,2], {2,3}, (2,4),(3,4)]\n",
    "\n",
    "s = pd.Series(data=list1, index=indices)\n",
    "print(s)\n",
    "print(type(s))"
   ]
  },
  {
   "cell_type": "code",
   "execution_count": null,
   "id": "3b909fd6",
   "metadata": {},
   "outputs": [],
   "source": [
    "list1 = ['Rauf', 'Arif', 'Maaz', 'Hadeed', 'Mujahid']\n",
    "indices = ['num1', 'num2', 'num3', 'num4', 'num5']\n",
    "#indices = [1,2,3,4,5]\n",
    "s = pd.Series(data=list1, index=indices)\n",
    "s"
   ]
  }
 ],
 "metadata": {
  "kernelspec": {
   "display_name": "Python 3 (ipykernel)",
   "language": "python",
   "name": "python3"
  },
  "language_info": {
   "codemirror_mode": {
    "name": "ipython",
    "version": 3
   },
   "file_extension": ".py",
   "mimetype": "text/x-python",
   "name": "python",
   "nbconvert_exporter": "python",
   "pygments_lexer": "ipython3",
   "version": "3.11.0"
  }
 },
 "nbformat": 4,
 "nbformat_minor": 5
}
