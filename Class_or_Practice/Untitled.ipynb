{
 "cells": [
  {
   "cell_type": "markdown",
   "id": "79e7391a",
   "metadata": {},
   "source": [
    "### Numpy Practice"
   ]
  },
  {
   "cell_type": "markdown",
   "id": "db7f3ff8",
   "metadata": {},
   "source": [
    "### 1-D"
   ]
  },
  {
   "cell_type": "code",
   "execution_count": 3,
   "id": "1ed416ed",
   "metadata": {},
   "outputs": [],
   "source": [
    "import numpy as np"
   ]
  },
  {
   "cell_type": "code",
   "execution_count": 25,
   "id": "cb56a27e",
   "metadata": {},
   "outputs": [
    {
     "data": {
      "text/plain": [
       "array(['12', '13', '123', '(3+4j)', '34.3', 'fd', 'True'], dtype='<U64')"
      ]
     },
     "execution_count": 25,
     "metadata": {},
     "output_type": "execute_result"
    }
   ],
   "source": [
    "arr = np.array([12,13, 123, 3+4j, 34.3, \"fd\", True])\n",
    "arr"
   ]
  },
  {
   "cell_type": "code",
   "execution_count": 7,
   "id": "3f3b1fb4",
   "metadata": {},
   "outputs": [
    {
     "data": {
      "text/plain": [
       "153"
      ]
     },
     "execution_count": 7,
     "metadata": {},
     "output_type": "execute_result"
    }
   ],
   "source": [
    "17 * 9"
   ]
  },
  {
   "cell_type": "code",
   "execution_count": 8,
   "id": "dd827d85",
   "metadata": {
    "scrolled": true
   },
   "outputs": [
    {
     "data": {
      "text/plain": [
       "-136"
      ]
     },
     "execution_count": 8,
     "metadata": {},
     "output_type": "execute_result"
    }
   ],
   "source": [
    "-17 << 3"
   ]
  },
  {
   "cell_type": "code",
   "execution_count": 27,
   "id": "16bf8ad4",
   "metadata": {
    "scrolled": true
   },
   "outputs": [
    {
     "ename": "IndexError",
     "evalue": "too many indices for array: array is 1-dimensional, but 2 were indexed",
     "output_type": "error",
     "traceback": [
      "\u001b[1;31m---------------------------------------------------------------------------\u001b[0m",
      "\u001b[1;31mIndexError\u001b[0m                                Traceback (most recent call last)",
      "Cell \u001b[1;32mIn[27], line 1\u001b[0m\n\u001b[1;32m----> 1\u001b[0m \u001b[43marr\u001b[49m\u001b[43m[\u001b[49m\u001b[38;5;241;43m1\u001b[39;49m\u001b[43m,\u001b[49m\u001b[38;5;241;43m1\u001b[39;49m\u001b[43m]\u001b[49m\n",
      "\u001b[1;31mIndexError\u001b[0m: too many indices for array: array is 1-dimensional, but 2 were indexed"
     ]
    }
   ],
   "source": [
    "arr[1,1]"
   ]
  },
  {
   "cell_type": "code",
   "execution_count": 15,
   "id": "56a54dc3",
   "metadata": {},
   "outputs": [
    {
     "data": {
      "text/plain": [
       "dtype('int32')"
      ]
     },
     "execution_count": 15,
     "metadata": {},
     "output_type": "execute_result"
    }
   ],
   "source": [
    "arr.dtype"
   ]
  },
  {
   "cell_type": "code",
   "execution_count": 16,
   "id": "f2803fd4",
   "metadata": {},
   "outputs": [
    {
     "data": {
      "text/plain": [
       "{'int': [numpy.int8, numpy.int16, numpy.int32, numpy.int64],\n",
       " 'uint': [numpy.uint8, numpy.uint16, numpy.uint32, numpy.uint64],\n",
       " 'float': [numpy.float16, numpy.float32, numpy.float64],\n",
       " 'complex': [numpy.complex64, numpy.complex128],\n",
       " 'others': [bool, object, bytes, str, numpy.void]}"
      ]
     },
     "execution_count": 16,
     "metadata": {},
     "output_type": "execute_result"
    }
   ],
   "source": [
    "np.sctypes"
   ]
  },
  {
   "cell_type": "code",
   "execution_count": 23,
   "id": "3de53829",
   "metadata": {
    "scrolled": true
   },
   "outputs": [
    {
     "name": "stdout",
     "output_type": "stream",
     "text": [
      "array:  10\n"
     ]
    }
   ],
   "source": [
    "# Create a 0-D numpy array using array() constructor\n",
    "arr1 = np.array(10)\n",
    "print(\"array: \", arr1)"
   ]
  },
  {
   "cell_type": "code",
   "execution_count": 24,
   "id": "8bf6a3a8",
   "metadata": {
    "scrolled": true
   },
   "outputs": [
    {
     "ename": "IndexError",
     "evalue": "too many indices for array: array is 0-dimensional, but 2 were indexed",
     "output_type": "error",
     "traceback": [
      "\u001b[1;31m---------------------------------------------------------------------------\u001b[0m",
      "\u001b[1;31mIndexError\u001b[0m                                Traceback (most recent call last)",
      "Cell \u001b[1;32mIn[24], line 1\u001b[0m\n\u001b[1;32m----> 1\u001b[0m \u001b[43marr\u001b[49m\u001b[43m[\u001b[49m\u001b[38;5;241;43m1\u001b[39;49m\u001b[43m,\u001b[49m\u001b[38;5;241;43m1\u001b[39;49m\u001b[43m]\u001b[49m\n",
      "\u001b[1;31mIndexError\u001b[0m: too many indices for array: array is 0-dimensional, but 2 were indexed"
     ]
    }
   ],
   "source": [
    "arr[1,1]"
   ]
  },
  {
   "cell_type": "code",
   "execution_count": 34,
   "id": "d31a4f04",
   "metadata": {},
   "outputs": [
    {
     "data": {
      "text/plain": [
       "array([10,  8,  6,  4,  2])"
      ]
     },
     "execution_count": 34,
     "metadata": {},
     "output_type": "execute_result"
    }
   ],
   "source": [
    "ar = np.arange(10, 1, -2)\n",
    "ar"
   ]
  },
  {
   "cell_type": "code",
   "execution_count": 36,
   "id": "813bba8a",
   "metadata": {},
   "outputs": [
    {
     "data": {
      "text/plain": [
       "'ehTsIgni'"
      ]
     },
     "execution_count": 36,
     "metadata": {},
     "output_type": "execute_result"
    }
   ],
   "source": [
    "ar = \"StringIsTheBakwaas\"\n",
    "a = ar[10:2:-1]\n",
    "a"
   ]
  },
  {
   "cell_type": "code",
   "execution_count": 36,
   "id": "e67101ec",
   "metadata": {},
   "outputs": [
    {
     "data": {
      "text/plain": [
       "'ehTsIgni'"
      ]
     },
     "execution_count": 36,
     "metadata": {},
     "output_type": "execute_result"
    }
   ],
   "source": [
    "ar = \"StringIsTheBakwaas\"\n",
    "a = ar[10:2:-1]\n",
    "a"
   ]
  },
  {
   "cell_type": "code",
   "execution_count": 36,
   "id": "6ca623c5",
   "metadata": {},
   "outputs": [
    {
     "data": {
      "text/plain": [
       "'ehTsIgni'"
      ]
     },
     "execution_count": 36,
     "metadata": {},
     "output_type": "execute_result"
    }
   ],
   "source": [
    "ar = \"StringIsTheBakwaas\"\n",
    "a = ar[10:2:-1]\n",
    "a"
   ]
  },
  {
   "cell_type": "code",
   "execution_count": 36,
   "id": "9fdb63ec",
   "metadata": {},
   "outputs": [
    {
     "data": {
      "text/plain": [
       "'ehTsIgni'"
      ]
     },
     "execution_count": 36,
     "metadata": {},
     "output_type": "execute_result"
    }
   ],
   "source": [
    "ar = \"StringIsTheBakwaas\"\n",
    "a = ar[10:2:-1]\n",
    "a"
   ]
  },
  {
   "cell_type": "code",
   "execution_count": 36,
   "id": "046248c9",
   "metadata": {},
   "outputs": [
    {
     "data": {
      "text/plain": [
       "'ehTsIgni'"
      ]
     },
     "execution_count": 36,
     "metadata": {},
     "output_type": "execute_result"
    }
   ],
   "source": [
    "ar = \"StringIsTheBakwaas\"\n",
    "a = ar[10:2:-1]\n",
    "a"
   ]
  },
  {
   "cell_type": "code",
   "execution_count": 36,
   "id": "fa15c396",
   "metadata": {},
   "outputs": [
    {
     "data": {
      "text/plain": [
       "'ehTsIgni'"
      ]
     },
     "execution_count": 36,
     "metadata": {},
     "output_type": "execute_result"
    }
   ],
   "source": [
    "ar = \"StringIsTheBakwaas\"\n",
    "a = ar[10:2:-1]\n",
    "a"
   ]
  },
  {
   "cell_type": "code",
   "execution_count": 36,
   "id": "1ef0ad46",
   "metadata": {},
   "outputs": [
    {
     "data": {
      "text/plain": [
       "'ehTsIgni'"
      ]
     },
     "execution_count": 36,
     "metadata": {},
     "output_type": "execute_result"
    }
   ],
   "source": [
    "ar = \"StringIsTheBakwaas\"\n",
    "a = ar[10:2:-1]\n",
    "a"
   ]
  },
  {
   "cell_type": "code",
   "execution_count": 36,
   "id": "536e3bc8",
   "metadata": {},
   "outputs": [
    {
     "data": {
      "text/plain": [
       "'ehTsIgni'"
      ]
     },
     "execution_count": 36,
     "metadata": {},
     "output_type": "execute_result"
    }
   ],
   "source": [
    "ar = \"StringIsTheBakwaas\"\n",
    "a = ar[10:2:-1]\n",
    "a"
   ]
  },
  {
   "cell_type": "code",
   "execution_count": 36,
   "id": "35f84de1",
   "metadata": {},
   "outputs": [
    {
     "data": {
      "text/plain": [
       "'ehTsIgni'"
      ]
     },
     "execution_count": 36,
     "metadata": {},
     "output_type": "execute_result"
    }
   ],
   "source": [
    "ar = \"StringIsTheBakwaas\"\n",
    "a = ar[10:2:-1]\n",
    "a"
   ]
  },
  {
   "cell_type": "code",
   "execution_count": 36,
   "id": "995541fc",
   "metadata": {},
   "outputs": [
    {
     "data": {
      "text/plain": [
       "'ehTsIgni'"
      ]
     },
     "execution_count": 36,
     "metadata": {},
     "output_type": "execute_result"
    }
   ],
   "source": [
    "ar = \"StringIsTheBakwaas\"\n",
    "a = ar[10:2:-1]\n",
    "a"
   ]
  },
  {
   "cell_type": "code",
   "execution_count": 36,
   "id": "c20f3f84",
   "metadata": {},
   "outputs": [
    {
     "data": {
      "text/plain": [
       "'ehTsIgni'"
      ]
     },
     "execution_count": 36,
     "metadata": {},
     "output_type": "execute_result"
    }
   ],
   "source": [
    "ar = \"StringIsTheBakwaas\"\n",
    "a = ar[10:2:-1]\n",
    "a"
   ]
  },
  {
   "cell_type": "code",
   "execution_count": 36,
   "id": "b51bcec1",
   "metadata": {},
   "outputs": [
    {
     "data": {
      "text/plain": [
       "'ehTsIgni'"
      ]
     },
     "execution_count": 36,
     "metadata": {},
     "output_type": "execute_result"
    }
   ],
   "source": [
    "ar = \"StringIsTheBakwaas\"\n",
    "a = ar[10:2:-1]\n",
    "a"
   ]
  },
  {
   "cell_type": "code",
   "execution_count": 36,
   "id": "21ffd275",
   "metadata": {},
   "outputs": [
    {
     "data": {
      "text/plain": [
       "'ehTsIgni'"
      ]
     },
     "execution_count": 36,
     "metadata": {},
     "output_type": "execute_result"
    }
   ],
   "source": [
    "ar = \"StringIsTheBakwaas\"\n",
    "a = ar[10:2:-1]\n",
    "a"
   ]
  },
  {
   "cell_type": "code",
   "execution_count": 36,
   "id": "cc5f62d7",
   "metadata": {},
   "outputs": [
    {
     "data": {
      "text/plain": [
       "'ehTsIgni'"
      ]
     },
     "execution_count": 36,
     "metadata": {},
     "output_type": "execute_result"
    }
   ],
   "source": [
    "ar = \"StringIsTheBakwaas\"\n",
    "a = ar[10:2:-1]\n",
    "a"
   ]
  },
  {
   "cell_type": "code",
   "execution_count": 36,
   "id": "541e2713",
   "metadata": {},
   "outputs": [
    {
     "data": {
      "text/plain": [
       "'ehTsIgni'"
      ]
     },
     "execution_count": 36,
     "metadata": {},
     "output_type": "execute_result"
    }
   ],
   "source": [
    "ar = \"StringIsTheBakwaas\"\n",
    "a = ar[10:2:-1]\n",
    "a"
   ]
  },
  {
   "cell_type": "code",
   "execution_count": 36,
   "id": "6d301f50",
   "metadata": {},
   "outputs": [
    {
     "data": {
      "text/plain": [
       "'ehTsIgni'"
      ]
     },
     "execution_count": 36,
     "metadata": {},
     "output_type": "execute_result"
    }
   ],
   "source": [
    "ar = \"StringIsTheBakwaas\"\n",
    "a = ar[10:2:-1]\n",
    "a"
   ]
  },
  {
   "cell_type": "code",
   "execution_count": 36,
   "id": "2e808d95",
   "metadata": {},
   "outputs": [
    {
     "data": {
      "text/plain": [
       "'ehTsIgni'"
      ]
     },
     "execution_count": 36,
     "metadata": {},
     "output_type": "execute_result"
    }
   ],
   "source": [
    "ar = \"StringIsTheBakwaas\"\n",
    "a = ar[10:2:-1]\n",
    "a"
   ]
  },
  {
   "cell_type": "code",
   "execution_count": 36,
   "id": "c9fd581e",
   "metadata": {},
   "outputs": [
    {
     "data": {
      "text/plain": [
       "'ehTsIgni'"
      ]
     },
     "execution_count": 36,
     "metadata": {},
     "output_type": "execute_result"
    }
   ],
   "source": [
    "ar = \"StringIsTheBakwaas\"\n",
    "a = ar[10:2:-1]\n",
    "a"
   ]
  },
  {
   "cell_type": "code",
   "execution_count": 36,
   "id": "24877932",
   "metadata": {},
   "outputs": [
    {
     "data": {
      "text/plain": [
       "'ehTsIgni'"
      ]
     },
     "execution_count": 36,
     "metadata": {},
     "output_type": "execute_result"
    }
   ],
   "source": [
    "ar = \"StringIsTheBakwaas\"\n",
    "a = ar[10:2:-1]\n",
    "a"
   ]
  },
  {
   "cell_type": "code",
   "execution_count": 36,
   "id": "b7a12e01",
   "metadata": {},
   "outputs": [
    {
     "data": {
      "text/plain": [
       "'ehTsIgni'"
      ]
     },
     "execution_count": 36,
     "metadata": {},
     "output_type": "execute_result"
    }
   ],
   "source": [
    "ar = \"StringIsTheBakwaas\"\n",
    "a = ar[10:2:-1]\n",
    "a"
   ]
  },
  {
   "cell_type": "code",
   "execution_count": 36,
   "id": "cbd85eba",
   "metadata": {},
   "outputs": [
    {
     "data": {
      "text/plain": [
       "'ehTsIgni'"
      ]
     },
     "execution_count": 36,
     "metadata": {},
     "output_type": "execute_result"
    }
   ],
   "source": [
    "ar = \"StringIsTheBakwaas\"\n",
    "a = ar[10:2:-1]\n",
    "a"
   ]
  },
  {
   "cell_type": "code",
   "execution_count": 36,
   "id": "b77e0baf",
   "metadata": {},
   "outputs": [
    {
     "data": {
      "text/plain": [
       "'ehTsIgni'"
      ]
     },
     "execution_count": 36,
     "metadata": {},
     "output_type": "execute_result"
    }
   ],
   "source": [
    "ar = \"StringIsTheBakwaas\"\n",
    "a = ar[10:2:-1]\n",
    "a"
   ]
  },
  {
   "cell_type": "code",
   "execution_count": 36,
   "id": "0527fb71",
   "metadata": {},
   "outputs": [
    {
     "data": {
      "text/plain": [
       "'ehTsIgni'"
      ]
     },
     "execution_count": 36,
     "metadata": {},
     "output_type": "execute_result"
    }
   ],
   "source": [
    "ar = \"StringIsTheBakwaas\"\n",
    "a = ar[10:2:-1]\n",
    "a"
   ]
  },
  {
   "cell_type": "code",
   "execution_count": 36,
   "id": "335f06b5",
   "metadata": {},
   "outputs": [
    {
     "data": {
      "text/plain": [
       "'ehTsIgni'"
      ]
     },
     "execution_count": 36,
     "metadata": {},
     "output_type": "execute_result"
    }
   ],
   "source": [
    "ar = \"StringIsTheBakwaas\"\n",
    "a = ar[10:2:-1]\n",
    "a"
   ]
  },
  {
   "cell_type": "code",
   "execution_count": 36,
   "id": "9a2df7cb",
   "metadata": {},
   "outputs": [
    {
     "data": {
      "text/plain": [
       "'ehTsIgni'"
      ]
     },
     "execution_count": 36,
     "metadata": {},
     "output_type": "execute_result"
    }
   ],
   "source": [
    "ar = \"StringIsTheBakwaas\"\n",
    "a = ar[10:2:-1]\n",
    "a"
   ]
  },
  {
   "cell_type": "code",
   "execution_count": 36,
   "id": "624e6b37",
   "metadata": {},
   "outputs": [
    {
     "data": {
      "text/plain": [
       "'ehTsIgni'"
      ]
     },
     "execution_count": 36,
     "metadata": {},
     "output_type": "execute_result"
    }
   ],
   "source": [
    "ar = \"StringIsTheBakwaas\"\n",
    "a = ar[10:2:-1]\n",
    "a"
   ]
  },
  {
   "cell_type": "code",
   "execution_count": 36,
   "id": "09f7b987",
   "metadata": {},
   "outputs": [
    {
     "data": {
      "text/plain": [
       "'ehTsIgni'"
      ]
     },
     "execution_count": 36,
     "metadata": {},
     "output_type": "execute_result"
    }
   ],
   "source": [
    "ar = \"StringIsTheBakwaas\"\n",
    "a = ar[10:2:-1]\n",
    "a"
   ]
  },
  {
   "cell_type": "code",
   "execution_count": 36,
   "id": "3bacfa70",
   "metadata": {},
   "outputs": [
    {
     "data": {
      "text/plain": [
       "'ehTsIgni'"
      ]
     },
     "execution_count": 36,
     "metadata": {},
     "output_type": "execute_result"
    }
   ],
   "source": [
    "ar = \"StringIsTheBakwaas\"\n",
    "a = ar[10:2:-1]\n",
    "a"
   ]
  },
  {
   "cell_type": "code",
   "execution_count": 36,
   "id": "9a8407df",
   "metadata": {},
   "outputs": [
    {
     "data": {
      "text/plain": [
       "'ehTsIgni'"
      ]
     },
     "execution_count": 36,
     "metadata": {},
     "output_type": "execute_result"
    }
   ],
   "source": [
    "ar = \"StringIsTheBakwaas\"\n",
    "a = ar[10:2:-1]\n",
    "a"
   ]
  },
  {
   "cell_type": "code",
   "execution_count": 36,
   "id": "3426111d",
   "metadata": {},
   "outputs": [
    {
     "data": {
      "text/plain": [
       "'ehTsIgni'"
      ]
     },
     "execution_count": 36,
     "metadata": {},
     "output_type": "execute_result"
    }
   ],
   "source": [
    "ar = \"StringIsTheBakwaas\"\n",
    "a = ar[10:2:-1]\n",
    "a"
   ]
  },
  {
   "cell_type": "code",
   "execution_count": 36,
   "id": "3a3601c1",
   "metadata": {},
   "outputs": [
    {
     "data": {
      "text/plain": [
       "'ehTsIgni'"
      ]
     },
     "execution_count": 36,
     "metadata": {},
     "output_type": "execute_result"
    }
   ],
   "source": [
    "ar = \"StringIsTheBakwaas\"\n",
    "a = ar[10:2:-1]\n",
    "a"
   ]
  },
  {
   "cell_type": "code",
   "execution_count": 36,
   "id": "6d115690",
   "metadata": {},
   "outputs": [
    {
     "data": {
      "text/plain": [
       "'ehTsIgni'"
      ]
     },
     "execution_count": 36,
     "metadata": {},
     "output_type": "execute_result"
    }
   ],
   "source": [
    "ar = \"StringIsTheBakwaas\"\n",
    "a = ar[10:2:-1]\n",
    "a"
   ]
  },
  {
   "cell_type": "code",
   "execution_count": 36,
   "id": "bcecfa64",
   "metadata": {},
   "outputs": [
    {
     "data": {
      "text/plain": [
       "'ehTsIgni'"
      ]
     },
     "execution_count": 36,
     "metadata": {},
     "output_type": "execute_result"
    }
   ],
   "source": [
    "ar = \"StringIsTheBakwaas\"\n",
    "a = ar[10:2:-1]\n",
    "a"
   ]
  },
  {
   "cell_type": "code",
   "execution_count": 36,
   "id": "a6040fca",
   "metadata": {},
   "outputs": [
    {
     "data": {
      "text/plain": [
       "'ehTsIgni'"
      ]
     },
     "execution_count": 36,
     "metadata": {},
     "output_type": "execute_result"
    }
   ],
   "source": [
    "ar = \"StringIsTheBakwaas\"\n",
    "a = ar[10:2:-1]\n",
    "a"
   ]
  },
  {
   "cell_type": "code",
   "execution_count": 36,
   "id": "ac7e2192",
   "metadata": {},
   "outputs": [
    {
     "data": {
      "text/plain": [
       "'ehTsIgni'"
      ]
     },
     "execution_count": 36,
     "metadata": {},
     "output_type": "execute_result"
    }
   ],
   "source": [
    "ar = \"StringIsTheBakwaas\"\n",
    "a = ar[10:2:-1]\n",
    "a"
   ]
  },
  {
   "cell_type": "code",
   "execution_count": 44,
   "id": "5de0511c",
   "metadata": {},
   "outputs": [
    {
     "data": {
      "text/plain": [
       "'awkaB'"
      ]
     },
     "execution_count": 44,
     "metadata": {},
     "output_type": "execute_result"
    }
   ],
   "source": [
    "ar = \"StringIsTheBakwaas\"\n",
    "a = ar[-3:10:-1]\n",
    "a"
   ]
  },
  {
   "cell_type": "code",
   "execution_count": 46,
   "id": "56a365e7",
   "metadata": {},
   "outputs": [
    {
     "data": {
      "text/plain": [
       "array([ 1.        ,  1.47368421,  1.94736842,  2.42105263,  2.89473684,\n",
       "        3.36842105,  3.84210526,  4.31578947,  4.78947368,  5.26315789,\n",
       "        5.73684211,  6.21052632,  6.68421053,  7.15789474,  7.63157895,\n",
       "        8.10526316,  8.57894737,  9.05263158,  9.52631579, 10.        ])"
      ]
     },
     "execution_count": 46,
     "metadata": {},
     "output_type": "execute_result"
    }
   ],
   "source": [
    "a = np.linspace(1,10,20)\n",
    "a"
   ]
  },
  {
   "cell_type": "code",
   "execution_count": 54,
   "id": "361dfe2e",
   "metadata": {},
   "outputs": [
    {
     "data": {
      "text/plain": [
       "(1761159783424, 1761159783424)"
      ]
     },
     "execution_count": 54,
     "metadata": {},
     "output_type": "execute_result"
    }
   ],
   "source": [
    "a = [1,2,3,4,5]\n",
    "b = a\n",
    "b.append(2)\n",
    "id(a), id(b)"
   ]
  },
  {
   "cell_type": "code",
   "execution_count": 90,
   "id": "0d7d55ff",
   "metadata": {},
   "outputs": [],
   "source": [
    "a = np.array([2,3,4])\n",
    "b = a[:]"
   ]
  },
  {
   "cell_type": "code",
   "execution_count": 76,
   "id": "e3205258",
   "metadata": {},
   "outputs": [
    {
     "data": {
      "text/plain": [
       "(1761160152528, 1761160153104)"
      ]
     },
     "execution_count": 76,
     "metadata": {},
     "output_type": "execute_result"
    }
   ],
   "source": [
    "id(a), id(b)"
   ]
  },
  {
   "cell_type": "code",
   "execution_count": 83,
   "id": "8825680c",
   "metadata": {},
   "outputs": [
    {
     "data": {
      "text/plain": [
       "1761160153776"
      ]
     },
     "execution_count": 83,
     "metadata": {},
     "output_type": "execute_result"
    }
   ],
   "source": [
    "b=b*2\n",
    "id(b)"
   ]
  },
  {
   "cell_type": "code",
   "execution_count": 86,
   "id": "a76c3f9d",
   "metadata": {},
   "outputs": [
    {
     "data": {
      "text/plain": [
       "array([2, 3, 4])"
      ]
     },
     "execution_count": 86,
     "metadata": {},
     "output_type": "execute_result"
    }
   ],
   "source": [
    "b"
   ]
  },
  {
   "cell_type": "code",
   "execution_count": 98,
   "id": "90cacc4c",
   "metadata": {},
   "outputs": [
    {
     "data": {
      "text/plain": [
       "array([16, 24, 32])"
      ]
     },
     "execution_count": 98,
     "metadata": {},
     "output_type": "execute_result"
    }
   ],
   "source": [
    "c = a*2\n",
    "a*2\n"
   ]
  },
  {
   "cell_type": "code",
   "execution_count": 99,
   "id": "96523a3c",
   "metadata": {},
   "outputs": [
    {
     "data": {
      "text/plain": [
       "array([16, 24, 32])"
      ]
     },
     "execution_count": 99,
     "metadata": {},
     "output_type": "execute_result"
    }
   ],
   "source": [
    "c"
   ]
  }
 ],
 "metadata": {
  "kernelspec": {
   "display_name": "Python 3 (ipykernel)",
   "language": "python",
   "name": "python3"
  },
  "language_info": {
   "codemirror_mode": {
    "name": "ipython",
    "version": 3
   },
   "file_extension": ".py",
   "mimetype": "text/x-python",
   "name": "python",
   "nbconvert_exporter": "python",
   "pygments_lexer": "ipython3",
   "version": "3.11.0"
  }
 },
 "nbformat": 4,
 "nbformat_minor": 5
}
