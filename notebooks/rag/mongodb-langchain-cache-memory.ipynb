{
  "cells": [
    {
      "cell_type": "markdown",
      "id": "70b333e6",
      "metadata": {
        "id": "70b333e6"
      },
      "source": [
        "[![Open In Colab](https://colab.research.google.com/assets/colab-badge.svg)](https://colab.research.google.com/github/mongodb-developer/GenAI-Showcase/blob/main/notebooks/rag/mongodb-langchain-cache-memory.ipynb)\n",
        "\n",
        "[![View Article](https://img.shields.io/badge/View%20Article-blue)](https://www.mongodb.com/developer/products/atlas/advanced-rag-langchain-mongodb/)\n"
      ]
    },
    {
      "cell_type": "markdown",
      "id": "d84a72ea",
      "metadata": {
        "id": "d84a72ea"
      },
      "source": [
        "# Adding Semantic Caching and Memory to your RAG Application using MongoDB and LangChain\n",
        "\n",
        "In this notebook, we will see how to use the new MongoDBCache and MongoDBChatMessageHistory in your RAG application.\n"
      ]
    },
    {
      "cell_type": "markdown",
      "id": "65527202",
      "metadata": {
        "id": "65527202"
      },
      "source": [
        "## Step 1: Install required libraries\n",
        "\n",
        "- **datasets**: Python library to get access to datasets available on Hugging Face Hub\n",
        "\n",
        "- **langchain**: Python toolkit for LangChain\n",
        "\n",
        "- **langchain-mongodb**: Python package to use MongoDB as a vector store, semantic cache, chat history store etc. in LangChain\n",
        "\n",
        "- **langchain-openai**: Python package to use OpenAI models with LangChain\n",
        "\n",
        "- **pymongo**: Python toolkit for MongoDB\n",
        "\n",
        "- **pandas**: Python library for data analysis, exploration, and manipulation"
      ]
    },
    {
      "cell_type": "code",
      "execution_count": 45,
      "id": "cbc22fa4",
      "metadata": {
        "id": "cbc22fa4"
      },
      "outputs": [],
      "source": [
        "! pip install -qU datasets langchain langchain-mongodb langchain-openai pymongo pandas"
      ]
    },
    {
      "cell_type": "markdown",
      "id": "39c41e87",
      "metadata": {
        "id": "39c41e87"
      },
      "source": [
        "## Step 2: Setup pre-requisites\n",
        "\n",
        "* Set the MongoDB connection string. Follow the steps [here](https://www.mongodb.com/docs/manual/reference/connection-string/) to get the connection string from the Atlas UI.\n",
        "\n",
        "* Set the OpenAI API key. Steps to obtain an API key as [here](https://help.openai.com/en/articles/4936850-where-do-i-find-my-openai-api-key)"
      ]
    },
    {
      "cell_type": "code",
      "execution_count": 46,
      "id": "b56412ae",
      "metadata": {
        "id": "b56412ae"
      },
      "outputs": [],
      "source": [
        "import getpass"
      ]
    },
    {
      "cell_type": "code",
      "execution_count": 4,
      "id": "16a20d7a",
      "metadata": {
        "id": "16a20d7a",
        "outputId": "f2bd6656-57bc-4399-bbda-963670e059fd",
        "colab": {
          "base_uri": "https://localhost:8080/"
        }
      },
      "outputs": [
        {
          "name": "stdout",
          "output_type": "stream",
          "text": [
            "Enter your MongoDB connection string:··········\n"
          ]
        }
      ],
      "source": [
        "MONGODB_URI = getpass.getpass(\"Enter your MongoDB connection string:\")"
      ]
    },
    {
      "cell_type": "code",
      "execution_count": 5,
      "id": "978682d4",
      "metadata": {
        "id": "978682d4",
        "outputId": "6604b66d-c870-4317-e0ff-1098420cfa0e",
        "colab": {
          "base_uri": "https://localhost:8080/"
        }
      },
      "outputs": [
        {
          "name": "stdout",
          "output_type": "stream",
          "text": [
            "Enter your GROQ API key:··········\n"
          ]
        }
      ],
      "source": [
        "GROQ_API_KEY = getpass.getpass(\"Enter your GROQ API key:\")"
      ]
    },
    {
      "cell_type": "code",
      "execution_count": 6,
      "id": "606081c5",
      "metadata": {
        "id": "606081c5",
        "outputId": "a9539b0f-1d32-416e-87e9-08cba137ec55",
        "colab": {
          "base_uri": "https://localhost:8080/"
        }
      },
      "outputs": [
        {
          "name": "stdout",
          "output_type": "stream",
          "text": [
            "··········\n"
          ]
        }
      ],
      "source": [
        "# Optional-- If you want to enable Langsmith -- good for debugging\n",
        "import os\n",
        "\n",
        "os.environ[\"LANGCHAIN_TRACING_V2\"] = \"true\"\n",
        "os.environ[\"LANGCHAIN_API_KEY\"] = getpass.getpass()"
      ]
    },
    {
      "cell_type": "markdown",
      "id": "f6b8302c",
      "metadata": {
        "id": "f6b8302c"
      },
      "source": [
        "## Step 3: Download the dataset\n",
        "\n",
        "We will be using MongoDB's [embedded_movies](https://huggingface.co/datasets/MongoDB/embedded_movies) dataset"
      ]
    },
    {
      "cell_type": "code",
      "execution_count": 47,
      "id": "1a3433a6",
      "metadata": {
        "id": "1a3433a6"
      },
      "outputs": [],
      "source": [
        "import pandas as pd\n",
        "from datasets import load_dataset"
      ]
    },
    {
      "cell_type": "code",
      "execution_count": 48,
      "id": "aee5311b",
      "metadata": {
        "id": "aee5311b"
      },
      "outputs": [],
      "source": [
        "# Load MongoDB's embedded_movies dataset from Hugging Face\n",
        "data = load_dataset(\"MongoDB/embedded_movies\")"
      ]
    },
    {
      "cell_type": "code",
      "execution_count": 49,
      "id": "1d630a26",
      "metadata": {
        "id": "1d630a26"
      },
      "outputs": [],
      "source": [
        "df = pd.DataFrame(data[\"train\"])"
      ]
    },
    {
      "cell_type": "markdown",
      "id": "a1f94f43",
      "metadata": {
        "id": "a1f94f43"
      },
      "source": [
        "## Step 4: Data analysis\n",
        "\n",
        "Make sure length of the dataset is what we expect, drop Nones etc."
      ]
    },
    {
      "cell_type": "code",
      "execution_count": 50,
      "id": "b276df71",
      "metadata": {
        "id": "b276df71",
        "outputId": "81618095-3d0f-4145-b92e-570e0f45569a",
        "colab": {
          "base_uri": "https://localhost:8080/",
          "height": 205
        }
      },
      "outputs": [
        {
          "output_type": "execute_result",
          "data": {
            "text/plain": [
              "                                                plot  runtime    genres  \\\n",
              "0  Young Pauline is left a lot of money when her ...    199.0  [Action]   \n",
              "\n",
              "                                            fullplot  \\\n",
              "0  Young Pauline is left a lot of money when her ...   \n",
              "\n",
              "                              directors  \\\n",
              "0  [Louis J. Gasnier, Donald MacKenzie]   \n",
              "\n",
              "                                             writers countries  \\\n",
              "0  [Charles W. Goddard (screenplay), Basil Dickey...     [USA]   \n",
              "\n",
              "                                              poster  languages  \\\n",
              "0  https://m.media-amazon.com/images/M/MV5BMzgxOD...  [English]   \n",
              "\n",
              "                                                cast                  title  \\\n",
              "0  [Pearl White, Crane Wilbur, Paul Panzer, Edwar...  The Perils of Pauline   \n",
              "\n",
              "   num_mflix_comments rated                                       imdb  \\\n",
              "0                   0  None  {'id': 4465, 'rating': 7.6, 'votes': 744}   \n",
              "\n",
              "                                            awards   type  metacritic  \\\n",
              "0  {'nominations': 0, 'text': '1 win.', 'wins': 1}  movie         NaN   \n",
              "\n",
              "                                      plot_embedding  \n",
              "0  [0.0007293965299999999, -0.026834568000000003,...  "
            ],
            "text/html": [
              "\n",
              "  <div id=\"df-44b2efb7-2f48-4253-a48a-2e89a70d8421\" class=\"colab-df-container\">\n",
              "    <div>\n",
              "<style scoped>\n",
              "    .dataframe tbody tr th:only-of-type {\n",
              "        vertical-align: middle;\n",
              "    }\n",
              "\n",
              "    .dataframe tbody tr th {\n",
              "        vertical-align: top;\n",
              "    }\n",
              "\n",
              "    .dataframe thead th {\n",
              "        text-align: right;\n",
              "    }\n",
              "</style>\n",
              "<table border=\"1\" class=\"dataframe\">\n",
              "  <thead>\n",
              "    <tr style=\"text-align: right;\">\n",
              "      <th></th>\n",
              "      <th>plot</th>\n",
              "      <th>runtime</th>\n",
              "      <th>genres</th>\n",
              "      <th>fullplot</th>\n",
              "      <th>directors</th>\n",
              "      <th>writers</th>\n",
              "      <th>countries</th>\n",
              "      <th>poster</th>\n",
              "      <th>languages</th>\n",
              "      <th>cast</th>\n",
              "      <th>title</th>\n",
              "      <th>num_mflix_comments</th>\n",
              "      <th>rated</th>\n",
              "      <th>imdb</th>\n",
              "      <th>awards</th>\n",
              "      <th>type</th>\n",
              "      <th>metacritic</th>\n",
              "      <th>plot_embedding</th>\n",
              "    </tr>\n",
              "  </thead>\n",
              "  <tbody>\n",
              "    <tr>\n",
              "      <th>0</th>\n",
              "      <td>Young Pauline is left a lot of money when her ...</td>\n",
              "      <td>199.0</td>\n",
              "      <td>[Action]</td>\n",
              "      <td>Young Pauline is left a lot of money when her ...</td>\n",
              "      <td>[Louis J. Gasnier, Donald MacKenzie]</td>\n",
              "      <td>[Charles W. Goddard (screenplay), Basil Dickey...</td>\n",
              "      <td>[USA]</td>\n",
              "      <td>https://m.media-amazon.com/images/M/MV5BMzgxOD...</td>\n",
              "      <td>[English]</td>\n",
              "      <td>[Pearl White, Crane Wilbur, Paul Panzer, Edwar...</td>\n",
              "      <td>The Perils of Pauline</td>\n",
              "      <td>0</td>\n",
              "      <td>None</td>\n",
              "      <td>{'id': 4465, 'rating': 7.6, 'votes': 744}</td>\n",
              "      <td>{'nominations': 0, 'text': '1 win.', 'wins': 1}</td>\n",
              "      <td>movie</td>\n",
              "      <td>NaN</td>\n",
              "      <td>[0.0007293965299999999, -0.026834568000000003,...</td>\n",
              "    </tr>\n",
              "  </tbody>\n",
              "</table>\n",
              "</div>\n",
              "    <div class=\"colab-df-buttons\">\n",
              "\n",
              "  <div class=\"colab-df-container\">\n",
              "    <button class=\"colab-df-convert\" onclick=\"convertToInteractive('df-44b2efb7-2f48-4253-a48a-2e89a70d8421')\"\n",
              "            title=\"Convert this dataframe to an interactive table.\"\n",
              "            style=\"display:none;\">\n",
              "\n",
              "  <svg xmlns=\"http://www.w3.org/2000/svg\" height=\"24px\" viewBox=\"0 -960 960 960\">\n",
              "    <path d=\"M120-120v-720h720v720H120Zm60-500h600v-160H180v160Zm220 220h160v-160H400v160Zm0 220h160v-160H400v160ZM180-400h160v-160H180v160Zm440 0h160v-160H620v160ZM180-180h160v-160H180v160Zm440 0h160v-160H620v160Z\"/>\n",
              "  </svg>\n",
              "    </button>\n",
              "\n",
              "  <style>\n",
              "    .colab-df-container {\n",
              "      display:flex;\n",
              "      gap: 12px;\n",
              "    }\n",
              "\n",
              "    .colab-df-convert {\n",
              "      background-color: #E8F0FE;\n",
              "      border: none;\n",
              "      border-radius: 50%;\n",
              "      cursor: pointer;\n",
              "      display: none;\n",
              "      fill: #1967D2;\n",
              "      height: 32px;\n",
              "      padding: 0 0 0 0;\n",
              "      width: 32px;\n",
              "    }\n",
              "\n",
              "    .colab-df-convert:hover {\n",
              "      background-color: #E2EBFA;\n",
              "      box-shadow: 0px 1px 2px rgba(60, 64, 67, 0.3), 0px 1px 3px 1px rgba(60, 64, 67, 0.15);\n",
              "      fill: #174EA6;\n",
              "    }\n",
              "\n",
              "    .colab-df-buttons div {\n",
              "      margin-bottom: 4px;\n",
              "    }\n",
              "\n",
              "    [theme=dark] .colab-df-convert {\n",
              "      background-color: #3B4455;\n",
              "      fill: #D2E3FC;\n",
              "    }\n",
              "\n",
              "    [theme=dark] .colab-df-convert:hover {\n",
              "      background-color: #434B5C;\n",
              "      box-shadow: 0px 1px 3px 1px rgba(0, 0, 0, 0.15);\n",
              "      filter: drop-shadow(0px 1px 2px rgba(0, 0, 0, 0.3));\n",
              "      fill: #FFFFFF;\n",
              "    }\n",
              "  </style>\n",
              "\n",
              "    <script>\n",
              "      const buttonEl =\n",
              "        document.querySelector('#df-44b2efb7-2f48-4253-a48a-2e89a70d8421 button.colab-df-convert');\n",
              "      buttonEl.style.display =\n",
              "        google.colab.kernel.accessAllowed ? 'block' : 'none';\n",
              "\n",
              "      async function convertToInteractive(key) {\n",
              "        const element = document.querySelector('#df-44b2efb7-2f48-4253-a48a-2e89a70d8421');\n",
              "        const dataTable =\n",
              "          await google.colab.kernel.invokeFunction('convertToInteractive',\n",
              "                                                    [key], {});\n",
              "        if (!dataTable) return;\n",
              "\n",
              "        const docLinkHtml = 'Like what you see? Visit the ' +\n",
              "          '<a target=\"_blank\" href=https://colab.research.google.com/notebooks/data_table.ipynb>data table notebook</a>'\n",
              "          + ' to learn more about interactive tables.';\n",
              "        element.innerHTML = '';\n",
              "        dataTable['output_type'] = 'display_data';\n",
              "        await google.colab.output.renderOutput(dataTable, element);\n",
              "        const docLink = document.createElement('div');\n",
              "        docLink.innerHTML = docLinkHtml;\n",
              "        element.appendChild(docLink);\n",
              "      }\n",
              "    </script>\n",
              "  </div>\n",
              "\n",
              "\n",
              "    </div>\n",
              "  </div>\n"
            ],
            "application/vnd.google.colaboratory.intrinsic+json": {
              "type": "dataframe",
              "variable_name": "df",
              "summary": "{\n  \"name\": \"df\",\n  \"rows\": 1500,\n  \"fields\": [\n    {\n      \"column\": \"plot\",\n      \"properties\": {\n        \"dtype\": \"string\",\n        \"num_unique_values\": 1429,\n        \"samples\": [\n          \"A New York City architect becomes a one-man vigilante squad after his wife is murdered by street punks in which he randomly goes out and kills would-be muggers on the mean streets after dark.\",\n          \"As the daring thief Ars\\u00e8ne Lupin (Duris) ransacks the homes of wealthy Parisians, the police, with a secret weapon in their arsenal, attempt to ferret him out.\",\n          \"The spoilt son of a millionaire finds the love of his life, but she will only accept him if he proves himself as a kung-fu master. He enters and wins the \\\"Kung-Fu Scholar\\\" tournament, ...\"\n        ],\n        \"semantic_type\": \"\",\n        \"description\": \"\"\n      }\n    },\n    {\n      \"column\": \"runtime\",\n      \"properties\": {\n        \"dtype\": \"number\",\n        \"std\": 42.09038552453904,\n        \"min\": 6.0,\n        \"max\": 1256.0,\n        \"num_unique_values\": 139,\n        \"samples\": [\n          152.0,\n          127.0,\n          96.0\n        ],\n        \"semantic_type\": \"\",\n        \"description\": \"\"\n      }\n    },\n    {\n      \"column\": \"genres\",\n      \"properties\": {\n        \"dtype\": \"object\",\n        \"semantic_type\": \"\",\n        \"description\": \"\"\n      }\n    },\n    {\n      \"column\": \"fullplot\",\n      \"properties\": {\n        \"dtype\": \"string\",\n        \"num_unique_values\": 1409,\n        \"samples\": [\n          \"An undercover cop infiltrates a gang of thieves who plan to rob a jewelry store.\",\n          \"Godzilla returns in a brand-new movie that ignores all preceding movies except for the original with a brand new look and a powered up atomic ray. This time he battles a mysterious UFO that later transforms into a mysterious kaiju dubbed Orga. They meet up for the final showdown in the city of Shinjuku.\",\n          \"Relationships become entangled in an emotional web.\"\n        ],\n        \"semantic_type\": \"\",\n        \"description\": \"\"\n      }\n    },\n    {\n      \"column\": \"directors\",\n      \"properties\": {\n        \"dtype\": \"object\",\n        \"semantic_type\": \"\",\n        \"description\": \"\"\n      }\n    },\n    {\n      \"column\": \"writers\",\n      \"properties\": {\n        \"dtype\": \"object\",\n        \"semantic_type\": \"\",\n        \"description\": \"\"\n      }\n    },\n    {\n      \"column\": \"countries\",\n      \"properties\": {\n        \"dtype\": \"object\",\n        \"semantic_type\": \"\",\n        \"description\": \"\"\n      }\n    },\n    {\n      \"column\": \"poster\",\n      \"properties\": {\n        \"dtype\": \"string\",\n        \"num_unique_values\": 1368,\n        \"samples\": [\n          \"https://m.media-amazon.com/images/M/MV5BNWE5MzAwMjQtNzI1YS00YjZhLTkxNDItM2JjNjM3ZjI5NzBjXkEyXkFqcGdeQXVyMTQxNzMzNDI@._V1_SY1000_SX677_AL_.jpg\",\n          \"https://m.media-amazon.com/images/M/MV5BMTgwNjIyNTczMF5BMl5BanBnXkFtZTcwODI5MDkyMQ@@._V1_SY1000_SX677_AL_.jpg\",\n          \"https://m.media-amazon.com/images/M/MV5BZDJjOTE0N2EtMmRlZS00NzU0LWE0ZWQtM2Q3MWMxNjcwZjBhXkEyXkFqcGdeQXVyNDk3NzU2MTQ@._V1_SY1000_SX677_AL_.jpg\"\n        ],\n        \"semantic_type\": \"\",\n        \"description\": \"\"\n      }\n    },\n    {\n      \"column\": \"languages\",\n      \"properties\": {\n        \"dtype\": \"object\",\n        \"semantic_type\": \"\",\n        \"description\": \"\"\n      }\n    },\n    {\n      \"column\": \"cast\",\n      \"properties\": {\n        \"dtype\": \"object\",\n        \"semantic_type\": \"\",\n        \"description\": \"\"\n      }\n    },\n    {\n      \"column\": \"title\",\n      \"properties\": {\n        \"dtype\": \"string\",\n        \"num_unique_values\": 1435,\n        \"samples\": [\n          \"Turbo: A Power Rangers Movie\",\n          \"Neon Genesis Evangelion: Death & Rebirth\",\n          \"Johnny Mnemonic\"\n        ],\n        \"semantic_type\": \"\",\n        \"description\": \"\"\n      }\n    },\n    {\n      \"column\": \"num_mflix_comments\",\n      \"properties\": {\n        \"dtype\": \"number\",\n        \"std\": 27,\n        \"min\": 0,\n        \"max\": 158,\n        \"num_unique_values\": 40,\n        \"samples\": [\n          117,\n          134,\n          124\n        ],\n        \"semantic_type\": \"\",\n        \"description\": \"\"\n      }\n    },\n    {\n      \"column\": \"rated\",\n      \"properties\": {\n        \"dtype\": \"category\",\n        \"num_unique_values\": 12,\n        \"samples\": [\n          \"TV-MA\",\n          \"TV-14\",\n          \"TV-G\"\n        ],\n        \"semantic_type\": \"\",\n        \"description\": \"\"\n      }\n    },\n    {\n      \"column\": \"imdb\",\n      \"properties\": {\n        \"dtype\": \"object\",\n        \"semantic_type\": \"\",\n        \"description\": \"\"\n      }\n    },\n    {\n      \"column\": \"awards\",\n      \"properties\": {\n        \"dtype\": \"object\",\n        \"semantic_type\": \"\",\n        \"description\": \"\"\n      }\n    },\n    {\n      \"column\": \"type\",\n      \"properties\": {\n        \"dtype\": \"category\",\n        \"num_unique_values\": 2,\n        \"samples\": [\n          \"series\",\n          \"movie\"\n        ],\n        \"semantic_type\": \"\",\n        \"description\": \"\"\n      }\n    },\n    {\n      \"column\": \"metacritic\",\n      \"properties\": {\n        \"dtype\": \"number\",\n        \"std\": 16.861995960390892,\n        \"min\": 9.0,\n        \"max\": 97.0,\n        \"num_unique_values\": 83,\n        \"samples\": [\n          50.0,\n          97.0\n        ],\n        \"semantic_type\": \"\",\n        \"description\": \"\"\n      }\n    },\n    {\n      \"column\": \"plot_embedding\",\n      \"properties\": {\n        \"dtype\": \"object\",\n        \"semantic_type\": \"\",\n        \"description\": \"\"\n      }\n    }\n  ]\n}"
            }
          },
          "metadata": {},
          "execution_count": 50
        }
      ],
      "source": [
        "# Previewing the contents of the data\n",
        "df.head(1)"
      ]
    },
    {
      "cell_type": "code",
      "execution_count": 51,
      "id": "22ab375d",
      "metadata": {
        "id": "22ab375d"
      },
      "outputs": [],
      "source": [
        "# Only keep records where the fullplot field is not null\n",
        "df = df[df[\"fullplot\"].notna()]"
      ]
    },
    {
      "cell_type": "code",
      "source": [],
      "metadata": {
        "id": "mB2UtPFEZ4wj"
      },
      "id": "mB2UtPFEZ4wj",
      "execution_count": 51,
      "outputs": []
    },
    {
      "cell_type": "code",
      "execution_count": 52,
      "id": "fceed99a",
      "metadata": {
        "id": "fceed99a"
      },
      "outputs": [],
      "source": [
        "# Renaming the embedding field to \"embedding\" -- required by LangChain\n",
        "df.rename(columns={\"plot_embedding\": \"embedding\"}, inplace=True)"
      ]
    },
    {
      "cell_type": "markdown",
      "id": "aedec13a",
      "metadata": {
        "id": "aedec13a"
      },
      "source": [
        "## Step 5: Create a simple RAG chain using MongoDB as the vector store"
      ]
    },
    {
      "cell_type": "code",
      "execution_count": 56,
      "id": "11d292f3",
      "metadata": {
        "id": "11d292f3"
      },
      "outputs": [],
      "source": [
        "from langchain_mongodb import MongoDBAtlasVectorSearch\n",
        "from pymongo import MongoClient\n",
        "\n",
        "# Initialize MongoDB python client\n",
        "client = MongoClient(\n",
        "    MONGODB_URI, appname=\"devrel.showcase.mongodb_langchain_cache_memory\"\n",
        ")\n",
        "\n",
        "DB_NAME = \"RagDB\"\n",
        "COLLECTION_NAME = \"MongoCacheDBS\"\n",
        "ATLAS_VECTOR_SEARCH_INDEX_NAME = \"test_vector_index\"\n",
        "collection = client[DB_NAME][COLLECTION_NAME]"
      ]
    },
    {
      "cell_type": "code",
      "execution_count": 57,
      "id": "d8292d53",
      "metadata": {
        "id": "d8292d53",
        "outputId": "e195122d-2179-483c-f05a-1190a95319de",
        "colab": {
          "base_uri": "https://localhost:8080/"
        }
      },
      "outputs": [
        {
          "output_type": "execute_result",
          "data": {
            "text/plain": [
              "DeleteResult({'n': 0, 'electionId': ObjectId('7fffffff00000000000000ba'), 'opTime': {'ts': Timestamp(1741885795, 2), 't': 186}, 'ok': 1.0, '$clusterTime': {'clusterTime': Timestamp(1741885795, 2), 'signature': {'hash': b'\\xbb\\x11\\xf28\\x00\\x82\\x18\\xc1\\xfb\\xb1\\xed8\\xe5\\xe3\\xc7\\xe6\\x08\\x84\\xf0\\x92', 'keyId': 7418469192430518274}}, 'operationTime': Timestamp(1741885795, 2)}, acknowledged=True)"
            ]
          },
          "metadata": {},
          "execution_count": 57
        }
      ],
      "source": [
        "# Delete any existing records in the collection\n",
        "collection.delete_many({})"
      ]
    },
    {
      "cell_type": "code",
      "execution_count": 58,
      "id": "36c68914",
      "metadata": {
        "id": "36c68914",
        "outputId": "27190263-6e00-49e4-dfea-989f4f606593",
        "colab": {
          "base_uri": "https://localhost:8080/"
        }
      },
      "outputs": [
        {
          "output_type": "stream",
          "name": "stdout",
          "text": [
            "Data ingestion into MongoDB completed\n"
          ]
        }
      ],
      "source": [
        "# Data Ingestion\n",
        "records = df.to_dict(\"records\")\n",
        "collection.insert_many(records)\n",
        "\n",
        "print(\"Data ingestion into MongoDB completed\")"
      ]
    },
    {
      "cell_type": "code",
      "source": [
        "%pip install -qU langchain-huggingface"
      ],
      "metadata": {
        "id": "8m02-Xoeay-1"
      },
      "id": "8m02-Xoeay-1",
      "execution_count": 59,
      "outputs": []
    },
    {
      "cell_type": "code",
      "execution_count": 60,
      "id": "cbfca0b8",
      "metadata": {
        "id": "cbfca0b8"
      },
      "outputs": [],
      "source": [
        "from langchain_huggingface import HuggingFaceEmbeddings\n",
        "\n",
        "embeddings = HuggingFaceEmbeddings(model_name=\"sentence-transformers/all-mpnet-base-v2\")"
      ]
    },
    {
      "cell_type": "code",
      "execution_count": 61,
      "id": "798e176c",
      "metadata": {
        "id": "798e176c"
      },
      "outputs": [],
      "source": [
        "# Vector Store Creation\n",
        "vector_store = MongoDBAtlasVectorSearch.from_connection_string(\n",
        "    connection_string=MONGODB_URI,\n",
        "    namespace=DB_NAME + \".\" + COLLECTION_NAME,\n",
        "    embedding=embeddings,\n",
        "    index_name=\"test_vector_index\",\n",
        "    text_key=\"fullplot\",\n",
        ")"
      ]
    },
    {
      "cell_type": "code",
      "execution_count": 62,
      "id": "c71cd087",
      "metadata": {
        "id": "c71cd087"
      },
      "outputs": [],
      "source": [
        "# Using the MongoDB vector store as a retriever in a RAG chain\n",
        "retriever = vector_store.as_retriever(search_type=\"similarity\", search_kwargs={\"k\": 5})"
      ]
    },
    {
      "cell_type": "code",
      "source": [
        "%pip install -qU langchain-groq"
      ],
      "metadata": {
        "id": "nIk-FHcYb47I"
      },
      "id": "nIk-FHcYb47I",
      "execution_count": 63,
      "outputs": []
    },
    {
      "cell_type": "code",
      "execution_count": 64,
      "id": "b6588cd3",
      "metadata": {
        "id": "b6588cd3"
      },
      "outputs": [],
      "source": [
        "from langchain_core.output_parsers import StrOutputParser\n",
        "from langchain_core.prompts import ChatPromptTemplate\n",
        "from langchain_core.runnables import RunnablePassthrough\n",
        "from langchain_groq.chat_models import ChatGroq\n",
        "\n",
        "# Generate context using the retriever, and pass the user question through\n",
        "retrieve = {\n",
        "    \"context\": retriever | (lambda docs: \"\\n\\n\".join([d.page_content for d in docs])),\n",
        "    \"question\": RunnablePassthrough(),\n",
        "}\n",
        "template = \"\"\"Answer the question based only on the following context: \\\n",
        "{context}\n",
        "\n",
        "Question: {question}\n",
        "\"\"\"\n",
        "# Defining the chat prompt\n",
        "prompt = ChatPromptTemplate.from_template(template)\n",
        "\n",
        "# Defining the model to be used for chat completion\n",
        "\n",
        "# model = ChatOpenAI(temperature=0, openai_api_key=OPENAI_API_KEY)\n",
        "model = ChatGroq(model=\"Llama3-70b-8192\", api_key=GROQ_API_KEY)\n",
        "\n",
        "# Parse output as a string\n",
        "parse_output = StrOutputParser()\n",
        "\n",
        "# Naive RAG chain\n",
        "naive_rag_chain = retrieve | prompt | model | parse_output"
      ]
    },
    {
      "cell_type": "code",
      "execution_count": 65,
      "id": "aaae21f5",
      "metadata": {
        "id": "aaae21f5",
        "outputId": "e7ee1308-affd-4834-9866-f4c5b68de376",
        "colab": {
          "base_uri": "https://localhost:8080/",
          "height": 122
        }
      },
      "outputs": [
        {
          "output_type": "execute_result",
          "data": {
            "text/plain": [
              "'Based on the context provided (which is none), I would say that the best movie to watch when sad is a personal preference. What one person finds comforting and uplifting might not be the same for another. Some people might prefer a light-hearted rom-com to take their mind off their sadness, while others might find solace in a more introspective and emotional drama.\\n\\nThat being said, if I had to make a general recommendation, I\\'d suggest a movie that has a positive and uplifting message, with a dash of humor and heart. Perhaps a classic like \"When Harry Met Sally\" or \"The Princess Bride\"? Or maybe a more modern pick like \"The Greatest Showman\" or \"La La Land\"? Ultimately, the best movie to watch when sad is one that resonates with your personal tastes and helps take your mind off your troubles.'"
            ],
            "application/vnd.google.colaboratory.intrinsic+json": {
              "type": "string"
            }
          },
          "metadata": {},
          "execution_count": 65
        }
      ],
      "source": [
        "naive_rag_chain.invoke(\"What is the best movie to watch when sad?\")"
      ]
    },
    {
      "cell_type": "markdown",
      "id": "75f929ef",
      "metadata": {
        "id": "75f929ef"
      },
      "source": [
        "## Step 6: Create a RAG chain with chat history"
      ]
    },
    {
      "cell_type": "code",
      "execution_count": 27,
      "id": "94e7bd4a",
      "metadata": {
        "id": "94e7bd4a"
      },
      "outputs": [],
      "source": [
        "from langchain_core.prompts import MessagesPlaceholder\n",
        "from langchain_core.runnables.history import RunnableWithMessageHistory\n",
        "from langchain_mongodb.chat_message_histories import MongoDBChatMessageHistory"
      ]
    },
    {
      "cell_type": "code",
      "execution_count": 28,
      "id": "5bb30860",
      "metadata": {
        "id": "5bb30860"
      },
      "outputs": [],
      "source": [
        "def get_session_history(session_id: str) -> MongoDBChatMessageHistory:\n",
        "    return MongoDBChatMessageHistory(\n",
        "        MONGODB_URI, session_id, database_name=DB_NAME, collection_name=\"history\"\n",
        "    )"
      ]
    },
    {
      "cell_type": "code",
      "execution_count": 29,
      "id": "f51d0f35",
      "metadata": {
        "id": "f51d0f35"
      },
      "outputs": [],
      "source": [
        "# Given a follow-up question and history, create a standalone question\n",
        "standalone_system_prompt = \"\"\"\n",
        "Given a chat history and a follow-up question, rephrase the follow-up question to be a standalone question. \\\n",
        "Do NOT answer the question, just reformulate it if needed, otherwise return it as is. \\\n",
        "Only return the final standalone question. \\\n",
        "\"\"\"\n",
        "standalone_question_prompt = ChatPromptTemplate.from_messages(\n",
        "    [\n",
        "        (\"system\", standalone_system_prompt),\n",
        "        MessagesPlaceholder(variable_name=\"history\"),\n",
        "        (\"human\", \"{question}\"),\n",
        "    ]\n",
        ")\n",
        "\n",
        "question_chain = standalone_question_prompt | model | parse_output"
      ]
    },
    {
      "cell_type": "code",
      "execution_count": 30,
      "id": "f3ef3354",
      "metadata": {
        "id": "f3ef3354"
      },
      "outputs": [],
      "source": [
        "# Generate context by passing output of the question_chain i.e. the standalone question to the retriever\n",
        "retriever_chain = RunnablePassthrough.assign(\n",
        "    context=question_chain\n",
        "    | retriever\n",
        "    | (lambda docs: \"\\n\\n\".join([d.page_content for d in docs]))\n",
        ")"
      ]
    },
    {
      "cell_type": "code",
      "execution_count": 31,
      "id": "5afb7345",
      "metadata": {
        "id": "5afb7345"
      },
      "outputs": [],
      "source": [
        "# Create a prompt that includes the context, history and the follow-up question\n",
        "rag_system_prompt = \"\"\"Answer the question based only on the following context: \\\n",
        "{context}\n",
        "\"\"\"\n",
        "rag_prompt = ChatPromptTemplate.from_messages(\n",
        "    [\n",
        "        (\"system\", rag_system_prompt),\n",
        "        MessagesPlaceholder(variable_name=\"history\"),\n",
        "        (\"human\", \"{question}\"),\n",
        "    ]\n",
        ")"
      ]
    },
    {
      "cell_type": "code",
      "execution_count": 32,
      "id": "f95f47d0",
      "metadata": {
        "id": "f95f47d0"
      },
      "outputs": [],
      "source": [
        "# RAG chain\n",
        "rag_chain = retriever_chain | rag_prompt | model | parse_output"
      ]
    },
    {
      "cell_type": "code",
      "execution_count": 33,
      "id": "9618d395",
      "metadata": {
        "id": "9618d395",
        "outputId": "5beed51c-ec00-41a6-9ad2-d9079b820aea",
        "colab": {
          "base_uri": "https://localhost:8080/",
          "height": 140
        }
      },
      "outputs": [
        {
          "output_type": "execute_result",
          "data": {
            "text/plain": [
              "'I\\'m sorry, but I didn\\'t receive any context to provide a specific answer. However, I can give you some general suggestions for movies that might help lift your mood when you\\'re feeling sad:\\n\\n1. Comedies: Watch a light-hearted comedy that makes you laugh, such as \"The Hangover,\" \"Bridesmaids,\" or \"Monty Python and the Holy Grail.\"\\n2. Uplifting stories: Movies with inspiring true stories or overcoming adversity can be uplifting, like \"Rocky,\" \"Erin Brockovich,\" or \"Hacksaw Ridge.\"\\n3. Animated films: Colorful and imaginative animated movies can take your mind off your sadness, such as \"Inside Out,\" \"Zootopia,\" or \"The Lego Movie.\"\\n4. Rom-coms: Romantic comedies can provide a feel-good escape, like \"When Harry Met Sally,\" \"Sleepless in Seattle,\" or \"Crazy Rich Asians.\"\\n5. Nostalgic favorites: Re-watch a movie that brings back happy memories or reminds you of a better time, such as a childhood favorite or a film that you loved growing up.\\n\\nRemember, everyone\\'s tastes are different, so you might need to experiment to find the right movie that helps improve your mood.'"
            ],
            "application/vnd.google.colaboratory.intrinsic+json": {
              "type": "string"
            }
          },
          "metadata": {},
          "execution_count": 33
        }
      ],
      "source": [
        "# RAG chain with history\n",
        "with_message_history = RunnableWithMessageHistory(\n",
        "    rag_chain,\n",
        "    get_session_history,\n",
        "    input_messages_key=\"question\",\n",
        "    history_messages_key=\"history\",\n",
        ")\n",
        "with_message_history.invoke(\n",
        "    {\"question\": \"What is the best movie to watch when sad?\"},\n",
        "    {\"configurable\": {\"session_id\": \"1\"}},\n",
        ")"
      ]
    },
    {
      "cell_type": "code",
      "execution_count": 34,
      "id": "6e3080d1",
      "metadata": {
        "id": "6e3080d1",
        "outputId": "25110427-2d52-4500-ffb8-aa32d5bfa8b1",
        "colab": {
          "base_uri": "https://localhost:8080/",
          "height": 105
        }
      },
      "outputs": [
        {
          "output_type": "execute_result",
          "data": {
            "text/plain": [
              "'I apologize, but I didn\\'t provide a specific movie suggestion earlier. If you\\'re open to more ideas, I can offer some additional suggestions:\\n\\n1. \"Elf\" (2003) - A Christmas comedy classic that\\'s funny and heartwarming.\\n2. \"The Princess Bride\" (1987) - A swashbuckling adventure with a sweet love story and memorable characters.\\n3. \"The Sound of Music\" (1965) - A timeless musical with iconic songs and a uplifting story.\\n4. \"Freaky Friday\" (2003) - A fun and lighthearted mother-daughter comedy.\\n5. \"Amélie\" (2001) - A quirky and charming French romantic comedy.\\n\\nIf none of these appeal to you, please let me know what type of movie you\\'re in the mood for (e.g., drama, action, fantasy, etc.), and I can try to suggest something else!'"
            ],
            "application/vnd.google.colaboratory.intrinsic+json": {
              "type": "string"
            }
          },
          "metadata": {},
          "execution_count": 34
        }
      ],
      "source": [
        "with_message_history.invoke(\n",
        "    {\n",
        "        \"question\": \"Hmmm..I don't want to watch that one. Can you suggest something else?\"\n",
        "    },\n",
        "    {\"configurable\": {\"session_id\": \"1\"}},\n",
        ")"
      ]
    },
    {
      "cell_type": "code",
      "execution_count": 35,
      "id": "daea2953",
      "metadata": {
        "id": "daea2953",
        "outputId": "aa746865-c786-41de-dbfc-2197c7a47e2a",
        "colab": {
          "base_uri": "https://localhost:8080/",
          "height": 105
        }
      },
      "outputs": [
        {
          "output_type": "execute_result",
          "data": {
            "text/plain": [
              "'If you\\'re looking for something even lighter, here are some more suggestions:\\n\\n1. \"Clueless\" (1995) - A classic teen comedy with a fun and upbeat tone.\\n2. \"Miss Congeniality\" (2000) - A silly and entertaining comedy about a tomboy FBI agent going undercover at a beauty pageant.\\n3. \"10 Things I Hate About You\" (1999) - A lighthearted teen rom-com with a fun \\'90s vibe.\\n4. \"My Big Fat Greek Wedding\" (2002) - A heartwarming and hilarious comedy about cultural differences and love.\\n5. \"The Devil Wears Prada\" (2006) - A fun and fashionable comedy about the world of high fashion.\\n\\nThese movies are all relatively light and easy to watch, with a focus on humor and entertainment. Let me know if any of these appeal to you!'"
            ],
            "application/vnd.google.colaboratory.intrinsic+json": {
              "type": "string"
            }
          },
          "metadata": {},
          "execution_count": 35
        }
      ],
      "source": [
        "with_message_history.invoke(\n",
        "    {\"question\": \"How about something more light?\"},\n",
        "    {\"configurable\": {\"session_id\": \"1\"}},\n",
        ")"
      ]
    },
    {
      "cell_type": "markdown",
      "id": "0de23a88",
      "metadata": {
        "id": "0de23a88"
      },
      "source": [
        "## Step 7: Get faster responses using Semantic Cache\n",
        "\n",
        "**NOTE:** Semantic cache only caches the input to the LLM. When using it in retrieval chains, remember that documents retrieved can change between runs resulting in cache misses for semantically similar queries."
      ]
    },
    {
      "cell_type": "code",
      "execution_count": 41,
      "id": "5d6b6741",
      "metadata": {
        "id": "5d6b6741"
      },
      "outputs": [],
      "source": [
        "from langchain_core.globals import set_llm_cache\n",
        "from langchain_mongodb.cache import MongoDBAtlasSemanticCache\n",
        "\n",
        "set_llm_cache(\n",
        "    MongoDBAtlasSemanticCache(\n",
        "        connection_string=MONGODB_URI,\n",
        "        embedding=embeddings,\n",
        "        collection_name=\"semantic_cache\",\n",
        "        database_name=DB_NAME,\n",
        "        index_name=ATLAS_VECTOR_SEARCH_INDEX_NAME,\n",
        "        # wait_until_ready=True,  # Optional, waits until the cache is ready to be used\n",
        "    )\n",
        ")"
      ]
    },
    {
      "cell_type": "code",
      "execution_count": 42,
      "id": "9825bc7b",
      "metadata": {
        "id": "9825bc7b",
        "outputId": "c8c68708-3328-477f-a8cd-2998c16bda80",
        "colab": {
          "base_uri": "https://localhost:8080/",
          "height": 105
        }
      },
      "outputs": [
        {
          "output_type": "stream",
          "name": "stdout",
          "text": [
            "CPU times: user 1.43 s, sys: 15.9 ms, total: 1.44 s\n",
            "Wall time: 3.9 s\n"
          ]
        },
        {
          "output_type": "execute_result",
          "data": {
            "text/plain": [
              "\"I'm so sorry to hear you're feeling sad! Unfortunately, I don't have any specific information about movies to recommend in this context. Can you give me a little more information about what you're in the mood for? Do you want a rom-com to lift your spirits, an animated film to take your mind off things, or perhaps a classic tearjerker to allow yourself a good cry?\""
            ],
            "application/vnd.google.colaboratory.intrinsic+json": {
              "type": "string"
            }
          },
          "metadata": {},
          "execution_count": 42
        }
      ],
      "source": [
        "%%time\n",
        "naive_rag_chain.invoke(\"What is the best movie to watch when sad?\")"
      ]
    },
    {
      "cell_type": "code",
      "execution_count": 43,
      "id": "a5e518cf",
      "metadata": {
        "id": "a5e518cf",
        "outputId": "27ba1a6c-82a3-4e82-cc41-32cf780103a4",
        "colab": {
          "base_uri": "https://localhost:8080/",
          "height": 157
        }
      },
      "outputs": [
        {
          "output_type": "stream",
          "name": "stdout",
          "text": [
            "CPU times: user 1.32 s, sys: 11.4 ms, total: 1.33 s\n",
            "Wall time: 2.88 s\n"
          ]
        },
        {
          "output_type": "execute_result",
          "data": {
            "text/plain": [
              "'Unfortunately, I don\\'t have enough information to give a specific answer. However, I can provide some general suggestions. When people are feeling sad, they often look for movies that can take their mind off their emotions, provide comfort, or offer a distraction. Some popular options might include:\\n\\n* Uplifting romantic comedies like \"When Harry Met Sally\" or \"The Proposal\"\\n* Classic feel-good movies like \"Forrest Gump\" or \"The Sound of Music\"\\n* Light-hearted animated films like \"Toy Story\" or \"Finding Nemo\"\\n* Inspirational true stories like \"Erin Brockovich\" or \"Hacksaw Ridge\"\\n* Or even a good cry-fest like \"Titanic\" or \"The Fault in Our Stars\"\\n\\nUltimately, the best movie to watch when sad is a personal preference. What kind of movie do you usually turn to when you\\'re feeling down?'"
            ],
            "application/vnd.google.colaboratory.intrinsic+json": {
              "type": "string"
            }
          },
          "metadata": {},
          "execution_count": 43
        }
      ],
      "source": [
        "%%time\n",
        "naive_rag_chain.invoke(\"What is the best movie to watch when sad?\")"
      ]
    },
    {
      "cell_type": "code",
      "execution_count": 44,
      "id": "3d3d3ad3",
      "metadata": {
        "id": "3d3d3ad3",
        "outputId": "415b2582-63b3-4c04-87d9-801e205c3a04",
        "colab": {
          "base_uri": "https://localhost:8080/",
          "height": 105
        }
      },
      "outputs": [
        {
          "output_type": "stream",
          "name": "stdout",
          "text": [
            "CPU times: user 1.37 s, sys: 7.68 ms, total: 1.38 s\n",
            "Wall time: 2.75 s\n"
          ]
        },
        {
          "output_type": "execute_result",
          "data": {
            "text/plain": [
              "\"I apologize, but there is no context provided to answer this question. The conversation just started, and no information has been shared about your preferences or habits. Could you please provide more context or information about your favorite movies or what you usually watch when you're feeling sad? I'd be happy to help!\""
            ],
            "application/vnd.google.colaboratory.intrinsic+json": {
              "type": "string"
            }
          },
          "metadata": {},
          "execution_count": 44
        }
      ],
      "source": [
        "%%time\n",
        "naive_rag_chain.invoke(\"Which movie do I watch when sad?\")"
      ]
    },
    {
      "cell_type": "code",
      "source": [],
      "metadata": {
        "id": "t-xnMogod3nn"
      },
      "id": "t-xnMogod3nn",
      "execution_count": null,
      "outputs": []
    }
  ],
  "metadata": {
    "kernelspec": {
      "display_name": "conda_pytorch_p310",
      "language": "python",
      "name": "conda_pytorch_p310"
    },
    "language_info": {
      "codemirror_mode": {
        "name": "ipython",
        "version": 3
      },
      "file_extension": ".py",
      "mimetype": "text/x-python",
      "name": "python",
      "nbconvert_exporter": "python",
      "pygments_lexer": "ipython3",
      "version": "3.10.13"
    },
    "colab": {
      "provenance": []
    }
  },
  "nbformat": 4,
  "nbformat_minor": 5
}